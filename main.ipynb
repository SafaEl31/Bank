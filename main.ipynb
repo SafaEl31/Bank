{
 "cells": [
  {
   "cell_type": "code",
   "execution_count": 2,
   "metadata": {},
   "outputs": [],
   "source": [
    "import pandas as pd\n",
    "import numpy as np\n",
    "import seaborn as sns\n",
    "import matplotlib.pyplot as plt\n",
    "%matplotlib inline"
   ]
  },
  {
   "cell_type": "code",
   "execution_count": 3,
   "metadata": {},
   "outputs": [],
   "source": [
    "df = pd.read_csv('data/bank.csv')"
   ]
  },
  {
   "cell_type": "code",
   "execution_count": 4,
   "metadata": {
    "scrolled": true
   },
   "outputs": [
    {
     "data": {
      "text/html": [
       "<div>\n",
       "<style scoped>\n",
       "    .dataframe tbody tr th:only-of-type {\n",
       "        vertical-align: middle;\n",
       "    }\n",
       "\n",
       "    .dataframe tbody tr th {\n",
       "        vertical-align: top;\n",
       "    }\n",
       "\n",
       "    .dataframe thead th {\n",
       "        text-align: right;\n",
       "    }\n",
       "</style>\n",
       "<table border=\"1\" class=\"dataframe\">\n",
       "  <thead>\n",
       "    <tr style=\"text-align: right;\">\n",
       "      <th></th>\n",
       "      <th>age</th>\n",
       "      <th>job</th>\n",
       "      <th>marital</th>\n",
       "      <th>education</th>\n",
       "      <th>default</th>\n",
       "      <th>balance</th>\n",
       "      <th>housing</th>\n",
       "      <th>loan</th>\n",
       "      <th>contact</th>\n",
       "      <th>day</th>\n",
       "      <th>month</th>\n",
       "      <th>duration</th>\n",
       "      <th>campaign</th>\n",
       "      <th>pdays</th>\n",
       "      <th>previous</th>\n",
       "      <th>poutcome</th>\n",
       "      <th>y</th>\n",
       "    </tr>\n",
       "  </thead>\n",
       "  <tbody>\n",
       "    <tr>\n",
       "      <th>0</th>\n",
       "      <td>58</td>\n",
       "      <td>management</td>\n",
       "      <td>married</td>\n",
       "      <td>tertiary</td>\n",
       "      <td>no</td>\n",
       "      <td>2143</td>\n",
       "      <td>yes</td>\n",
       "      <td>no</td>\n",
       "      <td>unknown</td>\n",
       "      <td>5</td>\n",
       "      <td>may</td>\n",
       "      <td>261</td>\n",
       "      <td>1</td>\n",
       "      <td>-1</td>\n",
       "      <td>0</td>\n",
       "      <td>unknown</td>\n",
       "      <td>no</td>\n",
       "    </tr>\n",
       "    <tr>\n",
       "      <th>1</th>\n",
       "      <td>44</td>\n",
       "      <td>technician</td>\n",
       "      <td>single</td>\n",
       "      <td>secondary</td>\n",
       "      <td>no</td>\n",
       "      <td>29</td>\n",
       "      <td>yes</td>\n",
       "      <td>no</td>\n",
       "      <td>unknown</td>\n",
       "      <td>5</td>\n",
       "      <td>may</td>\n",
       "      <td>151</td>\n",
       "      <td>1</td>\n",
       "      <td>-1</td>\n",
       "      <td>0</td>\n",
       "      <td>unknown</td>\n",
       "      <td>no</td>\n",
       "    </tr>\n",
       "    <tr>\n",
       "      <th>2</th>\n",
       "      <td>33</td>\n",
       "      <td>entrepreneur</td>\n",
       "      <td>married</td>\n",
       "      <td>secondary</td>\n",
       "      <td>no</td>\n",
       "      <td>2</td>\n",
       "      <td>yes</td>\n",
       "      <td>yes</td>\n",
       "      <td>unknown</td>\n",
       "      <td>5</td>\n",
       "      <td>may</td>\n",
       "      <td>76</td>\n",
       "      <td>1</td>\n",
       "      <td>-1</td>\n",
       "      <td>0</td>\n",
       "      <td>unknown</td>\n",
       "      <td>no</td>\n",
       "    </tr>\n",
       "    <tr>\n",
       "      <th>3</th>\n",
       "      <td>47</td>\n",
       "      <td>blue-collar</td>\n",
       "      <td>married</td>\n",
       "      <td>unknown</td>\n",
       "      <td>no</td>\n",
       "      <td>1506</td>\n",
       "      <td>yes</td>\n",
       "      <td>no</td>\n",
       "      <td>unknown</td>\n",
       "      <td>5</td>\n",
       "      <td>may</td>\n",
       "      <td>92</td>\n",
       "      <td>1</td>\n",
       "      <td>-1</td>\n",
       "      <td>0</td>\n",
       "      <td>unknown</td>\n",
       "      <td>no</td>\n",
       "    </tr>\n",
       "    <tr>\n",
       "      <th>4</th>\n",
       "      <td>33</td>\n",
       "      <td>unknown</td>\n",
       "      <td>single</td>\n",
       "      <td>unknown</td>\n",
       "      <td>no</td>\n",
       "      <td>1</td>\n",
       "      <td>no</td>\n",
       "      <td>no</td>\n",
       "      <td>unknown</td>\n",
       "      <td>5</td>\n",
       "      <td>may</td>\n",
       "      <td>198</td>\n",
       "      <td>1</td>\n",
       "      <td>-1</td>\n",
       "      <td>0</td>\n",
       "      <td>unknown</td>\n",
       "      <td>no</td>\n",
       "    </tr>\n",
       "  </tbody>\n",
       "</table>\n",
       "</div>"
      ],
      "text/plain": [
       "   age           job  marital  education default  balance housing loan  \\\n",
       "0   58    management  married   tertiary      no     2143     yes   no   \n",
       "1   44    technician   single  secondary      no       29     yes   no   \n",
       "2   33  entrepreneur  married  secondary      no        2     yes  yes   \n",
       "3   47   blue-collar  married    unknown      no     1506     yes   no   \n",
       "4   33       unknown   single    unknown      no        1      no   no   \n",
       "\n",
       "   contact  day month  duration  campaign  pdays  previous poutcome   y  \n",
       "0  unknown    5   may       261         1     -1         0  unknown  no  \n",
       "1  unknown    5   may       151         1     -1         0  unknown  no  \n",
       "2  unknown    5   may        76         1     -1         0  unknown  no  \n",
       "3  unknown    5   may        92         1     -1         0  unknown  no  \n",
       "4  unknown    5   may       198         1     -1         0  unknown  no  "
      ]
     },
     "execution_count": 4,
     "metadata": {},
     "output_type": "execute_result"
    }
   ],
   "source": [
    "df.head()"
   ]
  },
  {
   "cell_type": "code",
   "execution_count": 5,
   "metadata": {},
   "outputs": [
    {
     "data": {
      "text/plain": [
       "(45211, 17)"
      ]
     },
     "execution_count": 5,
     "metadata": {},
     "output_type": "execute_result"
    }
   ],
   "source": [
    "df.shape"
   ]
  },
  {
   "cell_type": "code",
   "execution_count": 6,
   "metadata": {},
   "outputs": [
    {
     "data": {
      "text/plain": [
       "age          0\n",
       "job          0\n",
       "marital      0\n",
       "education    0\n",
       "default      0\n",
       "balance      0\n",
       "housing      0\n",
       "loan         0\n",
       "contact      0\n",
       "day          0\n",
       "month        0\n",
       "duration     0\n",
       "campaign     0\n",
       "pdays        0\n",
       "previous     0\n",
       "poutcome     0\n",
       "y            0\n",
       "dtype: int64"
      ]
     },
     "execution_count": 6,
     "metadata": {},
     "output_type": "execute_result"
    }
   ],
   "source": [
    "df.isna().sum()"
   ]
  },
  {
   "cell_type": "code",
   "execution_count": 10,
   "metadata": {},
   "outputs": [],
   "source": [
    "df.rename(columns={'y':'target'},inplace=True)"
   ]
  },
  {
   "cell_type": "code",
   "execution_count": 11,
   "metadata": {},
   "outputs": [
    {
     "data": {
      "text/plain": [
       "Index(['age', 'job', 'marital', 'education', 'default', 'balance', 'housing',\n",
       "       'loan', 'contact', 'day', 'month', 'duration', 'campaign', 'pdays',\n",
       "       'previous', 'poutcome', 'target'],\n",
       "      dtype='object')"
      ]
     },
     "execution_count": 11,
     "metadata": {},
     "output_type": "execute_result"
    }
   ],
   "source": [
    "df.columns"
   ]
  },
  {
   "cell_type": "markdown",
   "metadata": {},
   "source": [
    "# Descriptive Analysis:"
   ]
  },
  {
   "cell_type": "markdown",
   "metadata": {},
   "source": [
    "## Profil of actual subscriber"
   ]
  },
  {
   "cell_type": "markdown",
   "metadata": {},
   "source": [
    "### Age"
   ]
  },
  {
   "cell_type": "code",
   "execution_count": 12,
   "metadata": {},
   "outputs": [
    {
     "data": {
      "image/png": "[encoded data removed]",
      "text/plain": [
       "<Figure size 1440x576 with 1 Axes>"
      ]
     },
     "metadata": {
      "needs_background": "light"
     },
     "output_type": "display_data"
    }
   ],
   "source": [
    "fig, ax = plt.subplots()\n",
    "fig.set_size_inches(20, 8)\n",
    "sns.countplot(x = 'age', data = df[df.target=='yes'])\n",
    "ax.set_xlabel('Age', fontsize=15)\n",
    "ax.set_ylabel('Count', fontsize=15)\n",
    "ax.set_title('Age Count Distribution of subscriber to term deposit customer', fontsize=20)\n",
    "sns.despine()"
   ]
  },
  {
   "cell_type": "markdown",
   "metadata": {},
   "source": [
    "### Marital status"
   ]
  },
  {
   "cell_type": "code",
   "execution_count": 13,
   "metadata": {
    "scrolled": true
   },
   "outputs": [
    {
     "data": {
      "image/png": "[encoded data removed]",
      "text/plain": [
       "<Figure size 720x360 with 1 Axes>"
      ]
     },
     "metadata": {
      "needs_background": "light"
     },
     "output_type": "display_data"
    }
   ],
   "source": [
    "# What kind of 'marital clients' this bank have, if you cross marital with default, loan or housing, there is no relation\n",
    "fig, ax = plt.subplots()\n",
    "fig.set_size_inches(10, 5)\n",
    "sns.countplot(x = 'marital', data = df[df.target=='yes'],palette='Set1')\n",
    "ax.set_xlabel('Marital', fontsize=15)\n",
    "ax.set_ylabel('Count', fontsize=15)\n",
    "ax.set_title('Marital status Distribution of actual subscriber', fontsize=15)\n",
    "ax.tick_params(labelsize=15)\n",
    "sns.despine()"
   ]
  },
  {
   "cell_type": "markdown",
   "metadata": {},
   "source": [
    "### Job and level of study"
   ]
  },
  {
   "cell_type": "code",
   "execution_count": 14,
   "metadata": {},
   "outputs": [
    {
     "data": {
      "image/png": "[encoded data removed]",
      "text/plain": [
       "<Figure size 1440x576 with 2 Axes>"
      ]
     },
     "metadata": {
      "needs_background": "light"
     },
     "output_type": "display_data"
    }
   ],
   "source": [
    "fig, (ax2, ax3) = plt.subplots(nrows = 1, ncols = 2, figsize = (20,8))\n",
    "# job \n",
    "chart = sns.countplot(x = 'job', data = df[df.target=='yes'], ax = ax2)\n",
    "ax2.set_title('Job', fontsize=15)\n",
    "ax2.set_xlabel('')\n",
    "ax2.set_ylabel('Count', fontsize=15)\n",
    "ax2.tick_params(labelsize=15)\n",
    "chart.set_xticklabels(chart.get_xticklabels(), rotation=90)\n",
    "# level of study\n",
    "sns.countplot(x = 'education', data = df[df.target=='yes'], ax = ax3,palette='Set1')\n",
    "ax3.set_title('Education', fontsize=15)\n",
    "ax3.set_xlabel('')\n",
    "ax3.set_ylabel('Count', fontsize=15)\n",
    "ax3.tick_params(labelsize=15)\n",
    "\n",
    "plt.subplots_adjust(wspace=0.25)"
   ]
  },
  {
   "cell_type": "markdown",
   "metadata": {},
   "source": [
    "### Housing and loan situation"
   ]
  },
  {
   "cell_type": "code",
   "execution_count": 15,
   "metadata": {},
   "outputs": [
    {
     "data": {
      "text/html": [
       "<div>\n",
       "<style scoped>\n",
       "    .dataframe tbody tr th:only-of-type {\n",
       "        vertical-align: middle;\n",
       "    }\n",
       "\n",
       "    .dataframe tbody tr th {\n",
       "        vertical-align: top;\n",
       "    }\n",
       "\n",
       "    .dataframe thead th {\n",
       "        text-align: right;\n",
       "    }\n",
       "</style>\n",
       "<table border=\"1\" class=\"dataframe\">\n",
       "  <thead>\n",
       "    <tr style=\"text-align: right;\">\n",
       "      <th>target</th>\n",
       "      <th>no</th>\n",
       "      <th>yes</th>\n",
       "    </tr>\n",
       "    <tr>\n",
       "      <th>loan</th>\n",
       "      <th></th>\n",
       "      <th></th>\n",
       "    </tr>\n",
       "  </thead>\n",
       "  <tbody>\n",
       "    <tr>\n",
       "      <th>no</th>\n",
       "      <td>33162</td>\n",
       "      <td>4805</td>\n",
       "    </tr>\n",
       "    <tr>\n",
       "      <th>yes</th>\n",
       "      <td>6760</td>\n",
       "      <td>484</td>\n",
       "    </tr>\n",
       "  </tbody>\n",
       "</table>\n",
       "</div>"
      ],
      "text/plain": [
       "target     no   yes\n",
       "loan               \n",
       "no      33162  4805\n",
       "yes      6760   484"
      ]
     },
     "execution_count": 15,
     "metadata": {},
     "output_type": "execute_result"
    }
   ],
   "source": [
    "table = pd.crosstab(df['loan'], df['target'])\n",
    "table"
   ]
  },
  {
   "cell_type": "code",
   "execution_count": 16,
   "metadata": {},
   "outputs": [
    {
     "data": {
      "image/png": "[encoded data removed]",
      "text/plain": [
       "<Figure size 1080x720 with 1 Axes>"
      ]
     },
     "metadata": {
      "needs_background": "light"
     },
     "output_type": "display_data"
    }
   ],
   "source": [
    "ax = table.plot(kind='bar',\n",
    "                figsize=(15, 10),\n",
    "                 title=\"Number of subscriber by the fact of having loan\")\n",
    "ax.set_xticks(range(len(table)))\n",
    "ax.set_xlabel(\"Loan\")\n",
    "ax.set_xticklabels(table.index);"
   ]
  },
  {
   "cell_type": "code",
   "execution_count": 17,
   "metadata": {},
   "outputs": [
    {
     "data": {
      "text/html": [
       "<div>\n",
       "<style scoped>\n",
       "    .dataframe tbody tr th:only-of-type {\n",
       "        vertical-align: middle;\n",
       "    }\n",
       "\n",
       "    .dataframe tbody tr th {\n",
       "        vertical-align: top;\n",
       "    }\n",
       "\n",
       "    .dataframe thead th {\n",
       "        text-align: right;\n",
       "    }\n",
       "</style>\n",
       "<table border=\"1\" class=\"dataframe\">\n",
       "  <thead>\n",
       "    <tr style=\"text-align: right;\">\n",
       "      <th>target</th>\n",
       "      <th>no</th>\n",
       "      <th>yes</th>\n",
       "    </tr>\n",
       "    <tr>\n",
       "      <th>housing</th>\n",
       "      <th></th>\n",
       "      <th></th>\n",
       "    </tr>\n",
       "  </thead>\n",
       "  <tbody>\n",
       "    <tr>\n",
       "      <th>no</th>\n",
       "      <td>16727</td>\n",
       "      <td>3354</td>\n",
       "    </tr>\n",
       "    <tr>\n",
       "      <th>yes</th>\n",
       "      <td>23195</td>\n",
       "      <td>1935</td>\n",
       "    </tr>\n",
       "  </tbody>\n",
       "</table>\n",
       "</div>"
      ],
      "text/plain": [
       "target      no   yes\n",
       "housing             \n",
       "no       16727  3354\n",
       "yes      23195  1935"
      ]
     },
     "execution_count": 17,
     "metadata": {},
     "output_type": "execute_result"
    }
   ],
   "source": [
    "table2 = pd.crosstab(df['housing'], df['target'])\n",
    "table2"
   ]
  },
  {
   "cell_type": "code",
   "execution_count": 18,
   "metadata": {},
   "outputs": [
    {
     "data": {
      "image/png": "[encoded data removed]",
      "text/plain": [
       "<Figure size 1080x720 with 1 Axes>"
      ]
     },
     "metadata": {
      "needs_background": "light"
     },
     "output_type": "display_data"
    }
   ],
   "source": [
    "ax2 = table2.plot(kind='bar',\n",
    "                figsize=(15, 10),\n",
    "                 title=\"Number of subscriber by the fact of having housing loan\")\n",
    "ax2.set_xticks(range(len(table2)))\n",
    "ax2.set_xlabel(\"Housing\")\n",
    "ax2.set_xticklabels(table2.index);"
   ]
  },
  {
   "cell_type": "markdown",
   "metadata": {},
   "source": [
    "## Information about compaign contact"
   ]
  },
  {
   "cell_type": "code",
   "execution_count": 20,
   "metadata": {},
   "outputs": [],
   "source": [
    "mean_duration = df.groupby('target')[['duration']].mean()/60"
   ]
  },
  {
   "cell_type": "code",
   "execution_count": 21,
   "metadata": {},
   "outputs": [
    {
     "data": {
      "image/png": "[encoded data removed]",
      "text/plain": [
       "<Figure size 1080x576 with 1 Axes>"
      ]
     },
     "metadata": {
      "needs_background": "light"
     },
     "output_type": "display_data"
    }
   ],
   "source": [
    "mean_duration.plot(figsize=(15, 8),kind='bar',color=['gold'],rot=60,title=\"Mean duration of call in minutes\");"
   ]
  },
  {
   "cell_type": "code",
   "execution_count": 22,
   "metadata": {},
   "outputs": [
    {
     "data": {
      "text/plain": [
       "age           int64\n",
       "job          object\n",
       "marital      object\n",
       "education    object\n",
       "default      object\n",
       "balance       int64\n",
       "housing      object\n",
       "loan         object\n",
       "contact      object\n",
       "day           int64\n",
       "month        object\n",
       "duration      int64\n",
       "campaign      int64\n",
       "pdays         int64\n",
       "previous      int64\n",
       "poutcome     object\n",
       "target       object\n",
       "dtype: object"
      ]
     },
     "execution_count": 22,
     "metadata": {},
     "output_type": "execute_result"
    }
   ],
   "source": [
    "df.dtypes"
   ]
  },
  {
   "cell_type": "code",
   "execution_count": 23,
   "metadata": {},
   "outputs": [],
   "source": [
    "# creating dummies for default, housing, loan, y\n",
    "# categorical: job, marital status, education, contact, month, poutcome"
   ]
  },
  {
   "cell_type": "code",
   "execution_count": 24,
   "metadata": {},
   "outputs": [
    {
     "data": {
      "text/html": [
       "<div>\n",
       "<style scoped>\n",
       "    .dataframe tbody tr th:only-of-type {\n",
       "        vertical-align: middle;\n",
       "    }\n",
       "\n",
       "    .dataframe tbody tr th {\n",
       "        vertical-align: top;\n",
       "    }\n",
       "\n",
       "    .dataframe thead th {\n",
       "        text-align: right;\n",
       "    }\n",
       "</style>\n",
       "<table border=\"1\" class=\"dataframe\">\n",
       "  <thead>\n",
       "    <tr style=\"text-align: right;\">\n",
       "      <th></th>\n",
       "      <th>age</th>\n",
       "      <th>balance</th>\n",
       "      <th>day</th>\n",
       "      <th>month</th>\n",
       "      <th>duration</th>\n",
       "      <th>campaign</th>\n",
       "      <th>pdays</th>\n",
       "      <th>previous</th>\n",
       "      <th>job_blue-collar</th>\n",
       "      <th>job_entrepreneur</th>\n",
       "      <th>...</th>\n",
       "      <th>education_unknown</th>\n",
       "      <th>default_yes</th>\n",
       "      <th>housing_yes</th>\n",
       "      <th>loan_yes</th>\n",
       "      <th>contact_telephone</th>\n",
       "      <th>contact_unknown</th>\n",
       "      <th>poutcome_other</th>\n",
       "      <th>poutcome_success</th>\n",
       "      <th>poutcome_unknown</th>\n",
       "      <th>target_yes</th>\n",
       "    </tr>\n",
       "  </thead>\n",
       "  <tbody>\n",
       "    <tr>\n",
       "      <th>0</th>\n",
       "      <td>58</td>\n",
       "      <td>2143</td>\n",
       "      <td>5</td>\n",
       "      <td>may</td>\n",
       "      <td>261</td>\n",
       "      <td>1</td>\n",
       "      <td>-1</td>\n",
       "      <td>0</td>\n",
       "      <td>0</td>\n",
       "      <td>0</td>\n",
       "      <td>...</td>\n",
       "      <td>0</td>\n",
       "      <td>0</td>\n",
       "      <td>1</td>\n",
       "      <td>0</td>\n",
       "      <td>0</td>\n",
       "      <td>1</td>\n",
       "      <td>0</td>\n",
       "      <td>0</td>\n",
       "      <td>1</td>\n",
       "      <td>0</td>\n",
       "    </tr>\n",
       "    <tr>\n",
       "      <th>1</th>\n",
       "      <td>44</td>\n",
       "      <td>29</td>\n",
       "      <td>5</td>\n",
       "      <td>may</td>\n",
       "      <td>151</td>\n",
       "      <td>1</td>\n",
       "      <td>-1</td>\n",
       "      <td>0</td>\n",
       "      <td>0</td>\n",
       "      <td>0</td>\n",
       "      <td>...</td>\n",
       "      <td>0</td>\n",
       "      <td>0</td>\n",
       "      <td>1</td>\n",
       "      <td>0</td>\n",
       "      <td>0</td>\n",
       "      <td>1</td>\n",
       "      <td>0</td>\n",
       "      <td>0</td>\n",
       "      <td>1</td>\n",
       "      <td>0</td>\n",
       "    </tr>\n",
       "    <tr>\n",
       "      <th>2</th>\n",
       "      <td>33</td>\n",
       "      <td>2</td>\n",
       "      <td>5</td>\n",
       "      <td>may</td>\n",
       "      <td>76</td>\n",
       "      <td>1</td>\n",
       "      <td>-1</td>\n",
       "      <td>0</td>\n",
       "      <td>0</td>\n",
       "      <td>1</td>\n",
       "      <td>...</td>\n",
       "      <td>0</td>\n",
       "      <td>0</td>\n",
       "      <td>1</td>\n",
       "      <td>1</td>\n",
       "      <td>0</td>\n",
       "      <td>1</td>\n",
       "      <td>0</td>\n",
       "      <td>0</td>\n",
       "      <td>1</td>\n",
       "      <td>0</td>\n",
       "    </tr>\n",
       "    <tr>\n",
       "      <th>3</th>\n",
       "      <td>47</td>\n",
       "      <td>1506</td>\n",
       "      <td>5</td>\n",
       "      <td>may</td>\n",
       "      <td>92</td>\n",
       "      <td>1</td>\n",
       "      <td>-1</td>\n",
       "      <td>0</td>\n",
       "      <td>1</td>\n",
       "      <td>0</td>\n",
       "      <td>...</td>\n",
       "      <td>1</td>\n",
       "      <td>0</td>\n",
       "      <td>1</td>\n",
       "      <td>0</td>\n",
       "      <td>0</td>\n",
       "      <td>1</td>\n",
       "      <td>0</td>\n",
       "      <td>0</td>\n",
       "      <td>1</td>\n",
       "      <td>0</td>\n",
       "    </tr>\n",
       "    <tr>\n",
       "      <th>4</th>\n",
       "      <td>33</td>\n",
       "      <td>1</td>\n",
       "      <td>5</td>\n",
       "      <td>may</td>\n",
       "      <td>198</td>\n",
       "      <td>1</td>\n",
       "      <td>-1</td>\n",
       "      <td>0</td>\n",
       "      <td>0</td>\n",
       "      <td>0</td>\n",
       "      <td>...</td>\n",
       "      <td>1</td>\n",
       "      <td>0</td>\n",
       "      <td>0</td>\n",
       "      <td>0</td>\n",
       "      <td>0</td>\n",
       "      <td>1</td>\n",
       "      <td>0</td>\n",
       "      <td>0</td>\n",
       "      <td>1</td>\n",
       "      <td>0</td>\n",
       "    </tr>\n",
       "    <tr>\n",
       "      <th>...</th>\n",
       "      <td>...</td>\n",
       "      <td>...</td>\n",
       "      <td>...</td>\n",
       "      <td>...</td>\n",
       "      <td>...</td>\n",
       "      <td>...</td>\n",
       "      <td>...</td>\n",
       "      <td>...</td>\n",
       "      <td>...</td>\n",
       "      <td>...</td>\n",
       "      <td>...</td>\n",
       "      <td>...</td>\n",
       "      <td>...</td>\n",
       "      <td>...</td>\n",
       "      <td>...</td>\n",
       "      <td>...</td>\n",
       "      <td>...</td>\n",
       "      <td>...</td>\n",
       "      <td>...</td>\n",
       "      <td>...</td>\n",
       "      <td>...</td>\n",
       "    </tr>\n",
       "    <tr>\n",
       "      <th>45206</th>\n",
       "      <td>51</td>\n",
       "      <td>825</td>\n",
       "      <td>17</td>\n",
       "      <td>nov</td>\n",
       "      <td>977</td>\n",
       "      <td>3</td>\n",
       "      <td>-1</td>\n",
       "      <td>0</td>\n",
       "      <td>0</td>\n",
       "      <td>0</td>\n",
       "      <td>...</td>\n",
       "      <td>0</td>\n",
       "      <td>0</td>\n",
       "      <td>0</td>\n",
       "      <td>0</td>\n",
       "      <td>0</td>\n",
       "      <td>0</td>\n",
       "      <td>0</td>\n",
       "      <td>0</td>\n",
       "      <td>1</td>\n",
       "      <td>1</td>\n",
       "    </tr>\n",
       "    <tr>\n",
       "      <th>45207</th>\n",
       "      <td>71</td>\n",
       "      <td>1729</td>\n",
       "      <td>17</td>\n",
       "      <td>nov</td>\n",
       "      <td>456</td>\n",
       "      <td>2</td>\n",
       "      <td>-1</td>\n",
       "      <td>0</td>\n",
       "      <td>0</td>\n",
       "      <td>0</td>\n",
       "      <td>...</td>\n",
       "      <td>0</td>\n",
       "      <td>0</td>\n",
       "      <td>0</td>\n",
       "      <td>0</td>\n",
       "      <td>0</td>\n",
       "      <td>0</td>\n",
       "      <td>0</td>\n",
       "      <td>0</td>\n",
       "      <td>1</td>\n",
       "      <td>1</td>\n",
       "    </tr>\n",
       "    <tr>\n",
       "      <th>45208</th>\n",
       "      <td>72</td>\n",
       "      <td>5715</td>\n",
       "      <td>17</td>\n",
       "      <td>nov</td>\n",
       "      <td>1127</td>\n",
       "      <td>5</td>\n",
       "      <td>184</td>\n",
       "      <td>3</td>\n",
       "      <td>0</td>\n",
       "      <td>0</td>\n",
       "      <td>...</td>\n",
       "      <td>0</td>\n",
       "      <td>0</td>\n",
       "      <td>0</td>\n",
       "      <td>0</td>\n",
       "      <td>0</td>\n",
       "      <td>0</td>\n",
       "      <td>0</td>\n",
       "      <td>1</td>\n",
       "      <td>0</td>\n",
       "      <td>1</td>\n",
       "    </tr>\n",
       "    <tr>\n",
       "      <th>45209</th>\n",
       "      <td>57</td>\n",
       "      <td>668</td>\n",
       "      <td>17</td>\n",
       "      <td>nov</td>\n",
       "      <td>508</td>\n",
       "      <td>4</td>\n",
       "      <td>-1</td>\n",
       "      <td>0</td>\n",
       "      <td>1</td>\n",
       "      <td>0</td>\n",
       "      <td>...</td>\n",
       "      <td>0</td>\n",
       "      <td>0</td>\n",
       "      <td>0</td>\n",
       "      <td>0</td>\n",
       "      <td>1</td>\n",
       "      <td>0</td>\n",
       "      <td>0</td>\n",
       "      <td>0</td>\n",
       "      <td>1</td>\n",
       "      <td>0</td>\n",
       "    </tr>\n",
       "    <tr>\n",
       "      <th>45210</th>\n",
       "      <td>37</td>\n",
       "      <td>2971</td>\n",
       "      <td>17</td>\n",
       "      <td>nov</td>\n",
       "      <td>361</td>\n",
       "      <td>2</td>\n",
       "      <td>188</td>\n",
       "      <td>11</td>\n",
       "      <td>0</td>\n",
       "      <td>1</td>\n",
       "      <td>...</td>\n",
       "      <td>0</td>\n",
       "      <td>0</td>\n",
       "      <td>0</td>\n",
       "      <td>0</td>\n",
       "      <td>0</td>\n",
       "      <td>0</td>\n",
       "      <td>1</td>\n",
       "      <td>0</td>\n",
       "      <td>0</td>\n",
       "      <td>0</td>\n",
       "    </tr>\n",
       "  </tbody>\n",
       "</table>\n",
       "<p>45211 rows × 33 columns</p>\n",
       "</div>"
      ],
      "text/plain": [
       "       age  balance  day month  duration  campaign  pdays  previous  \\\n",
       "0       58     2143    5   may       261         1     -1         0   \n",
       "1       44       29    5   may       151         1     -1         0   \n",
       "2       33        2    5   may        76         1     -1         0   \n",
       "3       47     1506    5   may        92         1     -1         0   \n",
       "4       33        1    5   may       198         1     -1         0   \n",
       "...    ...      ...  ...   ...       ...       ...    ...       ...   \n",
       "45206   51      825   17   nov       977         3     -1         0   \n",
       "45207   71     1729   17   nov       456         2     -1         0   \n",
       "45208   72     5715   17   nov      1127         5    184         3   \n",
       "45209   57      668   17   nov       508         4     -1         0   \n",
       "45210   37     2971   17   nov       361         2    188        11   \n",
       "\n",
       "       job_blue-collar  job_entrepreneur  ...  education_unknown  default_yes  \\\n",
       "0                    0                 0  ...                  0            0   \n",
       "1                    0                 0  ...                  0            0   \n",
       "2                    0                 1  ...                  0            0   \n",
       "3                    1                 0  ...                  1            0   \n",
       "4                    0                 0  ...                  1            0   \n",
       "...                ...               ...  ...                ...          ...   \n",
       "45206                0                 0  ...                  0            0   \n",
       "45207                0                 0  ...                  0            0   \n",
       "45208                0                 0  ...                  0            0   \n",
       "45209                1                 0  ...                  0            0   \n",
       "45210                0                 1  ...                  0            0   \n",
       "\n",
       "       housing_yes  loan_yes  contact_telephone  contact_unknown  \\\n",
       "0                1         0                  0                1   \n",
       "1                1         0                  0                1   \n",
       "2                1         1                  0                1   \n",
       "3                1         0                  0                1   \n",
       "4                0         0                  0                1   \n",
       "...            ...       ...                ...              ...   \n",
       "45206            0         0                  0                0   \n",
       "45207            0         0                  0                0   \n",
       "45208            0         0                  0                0   \n",
       "45209            0         0                  1                0   \n",
       "45210            0         0                  0                0   \n",
       "\n",
       "       poutcome_other  poutcome_success  poutcome_unknown  target_yes  \n",
       "0                   0                 0                 1           0  \n",
       "1                   0                 0                 1           0  \n",
       "2                   0                 0                 1           0  \n",
       "3                   0                 0                 1           0  \n",
       "4                   0                 0                 1           0  \n",
       "...               ...               ...               ...         ...  \n",
       "45206               0                 0                 1           1  \n",
       "45207               0                 0                 1           1  \n",
       "45208               0                 1                 0           1  \n",
       "45209               0                 0                 1           0  \n",
       "45210               1                 0                 0           0  \n",
       "\n",
       "[45211 rows x 33 columns]"
      ]
     },
     "execution_count": 24,
     "metadata": {},
     "output_type": "execute_result"
    }
   ],
   "source": [
    "dummies_list = ['job','marital','education','default','housing','loan','contact','poutcome','target']\n",
    "df1 = pd.get_dummies(data=df,columns=dummies_list,drop_first=True)\n",
    "df1"
   ]
  },
  {
   "cell_type": "code",
   "execution_count": 25,
   "metadata": {},
   "outputs": [
    {
     "data": {
      "text/plain": [
       "Index(['age', 'balance', 'day', 'month', 'duration', 'campaign', 'pdays',\n",
       "       'previous', 'job_blue-collar', 'job_entrepreneur', 'job_housemaid',\n",
       "       'job_management', 'job_retired', 'job_self-employed', 'job_services',\n",
       "       'job_student', 'job_technician', 'job_unemployed', 'job_unknown',\n",
       "       'marital_married', 'marital_single', 'education_secondary',\n",
       "       'education_tertiary', 'education_unknown', 'default_yes', 'housing_yes',\n",
       "       'loan_yes', 'contact_telephone', 'contact_unknown', 'poutcome_other',\n",
       "       'poutcome_success', 'poutcome_unknown', 'target_yes'],\n",
       "      dtype='object')"
      ]
     },
     "execution_count": 25,
     "metadata": {},
     "output_type": "execute_result"
    }
   ],
   "source": [
    "df1.columns"
   ]
  },
  {
   "cell_type": "code",
   "execution_count": 26,
   "metadata": {},
   "outputs": [],
   "source": [
    "#lets drop month column and keep day and duration\n",
    "df1.drop('month',axis=1,inplace=True)"
   ]
  },
  {
   "cell_type": "code",
   "execution_count": 27,
   "metadata": {},
   "outputs": [],
   "source": [
    "df1.rename(columns={'default_yes':'has_credit','housing_yes':'housing','loan_yes':'loan','target_yes':'target'},inplace=True)"
   ]
  },
  {
   "cell_type": "code",
   "execution_count": 28,
   "metadata": {},
   "outputs": [],
   "source": [
    "df1.dtypes;"
   ]
  },
  {
   "cell_type": "code",
   "execution_count": 29,
   "metadata": {},
   "outputs": [],
   "source": [
    "df1.isna().sum();"
   ]
  },
  {
   "cell_type": "code",
   "execution_count": 30,
   "metadata": {},
   "outputs": [
    {
     "data": {
      "text/plain": [
       "(45211, 32)"
      ]
     },
     "execution_count": 30,
     "metadata": {},
     "output_type": "execute_result"
    }
   ],
   "source": [
    "df1.shape"
   ]
  },
  {
   "cell_type": "code",
   "execution_count": 31,
   "metadata": {},
   "outputs": [
    {
     "name": "stdout",
     "output_type": "stream",
     "text": [
      "proportion of unknown or other values of the column job_unknown is 0.006370131162770122\n",
      "proportion of unknown or other values of the column education_unknown is 0.04107407489327818\n",
      "proportion of unknown or other values of the column contact_unknown is 0.28798301298356593\n",
      "proportion of unknown or other values of the column poutcome_unknown is 0.18252195262214949\n"
     ]
    }
   ],
   "source": [
    "def checkdrop_unknown_values(df,threshold):\n",
    "    for col in df.columns.to_list():\n",
    "        if 'unknown' in col:\n",
    "            proportion = df1[col].value_counts()/df1.shape[0]    \n",
    "            print('proportion of unknown or other values of the column',col, 'is', proportion.iloc[1])\n",
    "            if proportion.iloc[1]<threshold:\n",
    "                df.drop(col, axis=1, inplace=True)\n",
    "        \n",
    "checkdrop_unknown_values(df1,0.3)"
   ]
  },
  {
   "cell_type": "code",
   "execution_count": 32,
   "metadata": {},
   "outputs": [
    {
     "data": {
      "text/plain": [
       "0    0.959302\n",
       "1    0.040698\n",
       "Name: poutcome_other, dtype: float64"
      ]
     },
     "execution_count": 32,
     "metadata": {},
     "output_type": "execute_result"
    }
   ],
   "source": [
    "df1.poutcome_other.value_counts()/df1.shape[0]"
   ]
  },
  {
   "cell_type": "code",
   "execution_count": 33,
   "metadata": {},
   "outputs": [],
   "source": [
    "df1.drop('poutcome_other', axis=1, inplace=True)"
   ]
  },
  {
   "cell_type": "code",
   "execution_count": 34,
   "metadata": {},
   "outputs": [
    {
     "data": {
      "text/plain": [
       "Index(['age', 'balance', 'day', 'duration', 'campaign', 'pdays', 'previous',\n",
       "       'job_blue-collar', 'job_entrepreneur', 'job_housemaid',\n",
       "       'job_management', 'job_retired', 'job_self-employed', 'job_services',\n",
       "       'job_student', 'job_technician', 'job_unemployed', 'marital_married',\n",
       "       'marital_single', 'education_secondary', 'education_tertiary',\n",
       "       'has_credit', 'housing', 'loan', 'contact_telephone',\n",
       "       'poutcome_success', 'target'],\n",
       "      dtype='object')"
      ]
     },
     "execution_count": 34,
     "metadata": {},
     "output_type": "execute_result"
    }
   ],
   "source": [
    "df1.columns"
   ]
  },
  {
   "cell_type": "code",
   "execution_count": 35,
   "metadata": {},
   "outputs": [
    {
     "data": {
      "text/html": [
       "<div>\n",
       "<style scoped>\n",
       "    .dataframe tbody tr th:only-of-type {\n",
       "        vertical-align: middle;\n",
       "    }\n",
       "\n",
       "    .dataframe tbody tr th {\n",
       "        vertical-align: top;\n",
       "    }\n",
       "\n",
       "    .dataframe thead th {\n",
       "        text-align: right;\n",
       "    }\n",
       "</style>\n",
       "<table border=\"1\" class=\"dataframe\">\n",
       "  <thead>\n",
       "    <tr style=\"text-align: right;\">\n",
       "      <th></th>\n",
       "      <th>age</th>\n",
       "      <th>balance</th>\n",
       "      <th>day</th>\n",
       "      <th>duration</th>\n",
       "      <th>campaign</th>\n",
       "      <th>pdays</th>\n",
       "      <th>previous</th>\n",
       "      <th>job_blue-collar</th>\n",
       "      <th>job_entrepreneur</th>\n",
       "      <th>job_housemaid</th>\n",
       "      <th>...</th>\n",
       "      <th>marital_married</th>\n",
       "      <th>marital_single</th>\n",
       "      <th>education_secondary</th>\n",
       "      <th>education_tertiary</th>\n",
       "      <th>has_credit</th>\n",
       "      <th>housing</th>\n",
       "      <th>loan</th>\n",
       "      <th>contact_telephone</th>\n",
       "      <th>poutcome_success</th>\n",
       "      <th>target</th>\n",
       "    </tr>\n",
       "  </thead>\n",
       "  <tbody>\n",
       "    <tr>\n",
       "      <th>age</th>\n",
       "      <td>1.000000</td>\n",
       "      <td>0.097783</td>\n",
       "      <td>-0.009120</td>\n",
       "      <td>-0.004648</td>\n",
       "      <td>0.004760</td>\n",
       "      <td>-0.023758</td>\n",
       "      <td>0.001288</td>\n",
       "      <td>-0.044002</td>\n",
       "      <td>0.021792</td>\n",
       "      <td>0.086650</td>\n",
       "      <td>...</td>\n",
       "      <td>0.286257</td>\n",
       "      <td>-0.427817</td>\n",
       "      <td>-0.093979</td>\n",
       "      <td>-0.081629</td>\n",
       "      <td>-0.017879</td>\n",
       "      <td>-0.185513</td>\n",
       "      <td>-0.015655</td>\n",
       "      <td>0.170349</td>\n",
       "      <td>0.035526</td>\n",
       "      <td>0.025155</td>\n",
       "    </tr>\n",
       "    <tr>\n",
       "      <th>balance</th>\n",
       "      <td>0.097783</td>\n",
       "      <td>1.000000</td>\n",
       "      <td>0.004503</td>\n",
       "      <td>0.021560</td>\n",
       "      <td>-0.014578</td>\n",
       "      <td>0.003435</td>\n",
       "      <td>0.016674</td>\n",
       "      <td>-0.048757</td>\n",
       "      <td>0.009642</td>\n",
       "      <td>0.001661</td>\n",
       "      <td>...</td>\n",
       "      <td>0.025708</td>\n",
       "      <td>-0.012537</td>\n",
       "      <td>-0.069937</td>\n",
       "      <td>0.084001</td>\n",
       "      <td>-0.066745</td>\n",
       "      <td>-0.068768</td>\n",
       "      <td>-0.084350</td>\n",
       "      <td>0.037999</td>\n",
       "      <td>0.035240</td>\n",
       "      <td>0.052838</td>\n",
       "    </tr>\n",
       "    <tr>\n",
       "      <th>day</th>\n",
       "      <td>-0.009120</td>\n",
       "      <td>0.004503</td>\n",
       "      <td>1.000000</td>\n",
       "      <td>-0.030206</td>\n",
       "      <td>0.162490</td>\n",
       "      <td>-0.093044</td>\n",
       "      <td>-0.051710</td>\n",
       "      <td>-0.022898</td>\n",
       "      <td>-0.002312</td>\n",
       "      <td>0.003955</td>\n",
       "      <td>...</td>\n",
       "      <td>0.007102</td>\n",
       "      <td>-0.007412</td>\n",
       "      <td>-0.005831</td>\n",
       "      <td>0.021730</td>\n",
       "      <td>0.009424</td>\n",
       "      <td>-0.027982</td>\n",
       "      <td>0.011370</td>\n",
       "      <td>0.023652</td>\n",
       "      <td>-0.030321</td>\n",
       "      <td>-0.028348</td>\n",
       "    </tr>\n",
       "    <tr>\n",
       "      <th>duration</th>\n",
       "      <td>-0.004648</td>\n",
       "      <td>0.021560</td>\n",
       "      <td>-0.030206</td>\n",
       "      <td>1.000000</td>\n",
       "      <td>-0.084570</td>\n",
       "      <td>-0.001565</td>\n",
       "      <td>0.001203</td>\n",
       "      <td>0.009637</td>\n",
       "      <td>-0.001327</td>\n",
       "      <td>-0.008046</td>\n",
       "      <td>...</td>\n",
       "      <td>-0.022683</td>\n",
       "      <td>0.020328</td>\n",
       "      <td>0.002084</td>\n",
       "      <td>0.000891</td>\n",
       "      <td>-0.010021</td>\n",
       "      <td>0.005075</td>\n",
       "      <td>-0.012412</td>\n",
       "      <td>-0.023201</td>\n",
       "      <td>0.042389</td>\n",
       "      <td>0.394521</td>\n",
       "    </tr>\n",
       "    <tr>\n",
       "      <th>campaign</th>\n",
       "      <td>0.004760</td>\n",
       "      <td>-0.014578</td>\n",
       "      <td>0.162490</td>\n",
       "      <td>-0.084570</td>\n",
       "      <td>1.000000</td>\n",
       "      <td>-0.088628</td>\n",
       "      <td>-0.032855</td>\n",
       "      <td>0.008986</td>\n",
       "      <td>0.002128</td>\n",
       "      <td>0.003097</td>\n",
       "      <td>...</td>\n",
       "      <td>0.031371</td>\n",
       "      <td>-0.023120</td>\n",
       "      <td>-0.020893</td>\n",
       "      <td>0.012866</td>\n",
       "      <td>0.016822</td>\n",
       "      <td>-0.023599</td>\n",
       "      <td>0.009980</td>\n",
       "      <td>0.053895</td>\n",
       "      <td>-0.057486</td>\n",
       "      <td>-0.073172</td>\n",
       "    </tr>\n",
       "    <tr>\n",
       "      <th>pdays</th>\n",
       "      <td>-0.023758</td>\n",
       "      <td>0.003435</td>\n",
       "      <td>-0.093044</td>\n",
       "      <td>-0.001565</td>\n",
       "      <td>-0.088628</td>\n",
       "      <td>1.000000</td>\n",
       "      <td>0.454820</td>\n",
       "      <td>0.020063</td>\n",
       "      <td>-0.014203</td>\n",
       "      <td>-0.031350</td>\n",
       "      <td>...</td>\n",
       "      <td>-0.027600</td>\n",
       "      <td>0.027943</td>\n",
       "      <td>0.022105</td>\n",
       "      <td>-0.007568</td>\n",
       "      <td>-0.029979</td>\n",
       "      <td>0.124178</td>\n",
       "      <td>-0.022754</td>\n",
       "      <td>0.016006</td>\n",
       "      <td>0.228539</td>\n",
       "      <td>0.103621</td>\n",
       "    </tr>\n",
       "    <tr>\n",
       "      <th>previous</th>\n",
       "      <td>0.001288</td>\n",
       "      <td>0.016674</td>\n",
       "      <td>-0.051710</td>\n",
       "      <td>0.001203</td>\n",
       "      <td>-0.032855</td>\n",
       "      <td>0.454820</td>\n",
       "      <td>1.000000</td>\n",
       "      <td>-0.017095</td>\n",
       "      <td>-0.008181</td>\n",
       "      <td>-0.015204</td>\n",
       "      <td>...</td>\n",
       "      <td>-0.012691</td>\n",
       "      <td>0.017006</td>\n",
       "      <td>-0.005603</td>\n",
       "      <td>0.022888</td>\n",
       "      <td>-0.018329</td>\n",
       "      <td>0.037076</td>\n",
       "      <td>-0.011043</td>\n",
       "      <td>0.028097</td>\n",
       "      <td>0.201424</td>\n",
       "      <td>0.093236</td>\n",
       "    </tr>\n",
       "    <tr>\n",
       "      <th>job_blue-collar</th>\n",
       "      <td>-0.044002</td>\n",
       "      <td>-0.048757</td>\n",
       "      <td>-0.022898</td>\n",
       "      <td>0.009637</td>\n",
       "      <td>0.008986</td>\n",
       "      <td>0.020063</td>\n",
       "      <td>-0.017095</td>\n",
       "      <td>1.000000</td>\n",
       "      <td>-0.096585</td>\n",
       "      <td>-0.087951</td>\n",
       "      <td>...</td>\n",
       "      <td>0.122033</td>\n",
       "      <td>-0.088315</td>\n",
       "      <td>0.040548</td>\n",
       "      <td>-0.320541</td>\n",
       "      <td>0.010341</td>\n",
       "      <td>0.177475</td>\n",
       "      <td>0.018291</td>\n",
       "      <td>-0.003190</td>\n",
       "      <td>-0.053074</td>\n",
       "      <td>-0.072083</td>\n",
       "    </tr>\n",
       "    <tr>\n",
       "      <th>job_entrepreneur</th>\n",
       "      <td>0.021792</td>\n",
       "      <td>0.009642</td>\n",
       "      <td>-0.002312</td>\n",
       "      <td>-0.001327</td>\n",
       "      <td>0.002128</td>\n",
       "      <td>-0.014203</td>\n",
       "      <td>-0.008181</td>\n",
       "      <td>-0.096585</td>\n",
       "      <td>1.000000</td>\n",
       "      <td>-0.030969</td>\n",
       "      <td>...</td>\n",
       "      <td>0.044319</td>\n",
       "      <td>-0.050297</td>\n",
       "      <td>-0.054865</td>\n",
       "      <td>0.067639</td>\n",
       "      <td>0.026281</td>\n",
       "      <td>0.010600</td>\n",
       "      <td>0.039808</td>\n",
       "      <td>-0.004338</td>\n",
       "      <td>-0.019111</td>\n",
       "      <td>-0.019662</td>\n",
       "    </tr>\n",
       "    <tr>\n",
       "      <th>job_housemaid</th>\n",
       "      <td>0.086650</td>\n",
       "      <td>0.001661</td>\n",
       "      <td>0.003955</td>\n",
       "      <td>-0.008046</td>\n",
       "      <td>0.003097</td>\n",
       "      <td>-0.031350</td>\n",
       "      <td>-0.015204</td>\n",
       "      <td>-0.087951</td>\n",
       "      <td>-0.030969</td>\n",
       "      <td>1.000000</td>\n",
       "      <td>...</td>\n",
       "      <td>0.045816</td>\n",
       "      <td>-0.062177</td>\n",
       "      <td>-0.065396</td>\n",
       "      <td>-0.057004</td>\n",
       "      <td>-0.000359</td>\n",
       "      <td>-0.079380</td>\n",
       "      <td>-0.017234</td>\n",
       "      <td>0.039371</td>\n",
       "      <td>-0.009375</td>\n",
       "      <td>-0.015195</td>\n",
       "    </tr>\n",
       "    <tr>\n",
       "      <th>job_management</th>\n",
       "      <td>-0.023571</td>\n",
       "      <td>0.067797</td>\n",
       "      <td>0.019021</td>\n",
       "      <td>-0.008323</td>\n",
       "      <td>0.016686</td>\n",
       "      <td>-0.007871</td>\n",
       "      <td>0.019579</td>\n",
       "      <td>-0.269376</td>\n",
       "      <td>-0.094850</td>\n",
       "      <td>-0.086372</td>\n",
       "      <td>...</td>\n",
       "      <td>-0.032560</td>\n",
       "      <td>0.032765</td>\n",
       "      <td>-0.406124</td>\n",
       "      <td>0.598900</td>\n",
       "      <td>-0.002655</td>\n",
       "      <td>-0.063382</td>\n",
       "      <td>-0.038904</td>\n",
       "      <td>-0.030362</td>\n",
       "      <td>0.021453</td>\n",
       "      <td>0.032919</td>\n",
       "    </tr>\n",
       "    <tr>\n",
       "      <th>job_retired</th>\n",
       "      <td>0.447378</td>\n",
       "      <td>0.046900</td>\n",
       "      <td>-0.010123</td>\n",
       "      <td>0.026032</td>\n",
       "      <td>-0.030913</td>\n",
       "      <td>-0.006315</td>\n",
       "      <td>0.005818</td>\n",
       "      <td>-0.120251</td>\n",
       "      <td>-0.042342</td>\n",
       "      <td>-0.038557</td>\n",
       "      <td>...</td>\n",
       "      <td>0.076288</td>\n",
       "      <td>-0.119892</td>\n",
       "      <td>-0.036089</td>\n",
       "      <td>-0.066780</td>\n",
       "      <td>-0.011290</td>\n",
       "      <td>-0.156633</td>\n",
       "      <td>-0.014861</td>\n",
       "      <td>0.107299</td>\n",
       "      <td>0.055485</td>\n",
       "      <td>0.079245</td>\n",
       "    </tr>\n",
       "    <tr>\n",
       "      <th>job_self-employed</th>\n",
       "      <td>-0.008093</td>\n",
       "      <td>0.017850</td>\n",
       "      <td>0.005062</td>\n",
       "      <td>0.007383</td>\n",
       "      <td>0.005479</td>\n",
       "      <td>-0.010356</td>\n",
       "      <td>-0.002371</td>\n",
       "      <td>-0.099633</td>\n",
       "      <td>-0.035082</td>\n",
       "      <td>-0.031946</td>\n",
       "      <td>...</td>\n",
       "      <td>0.010472</td>\n",
       "      <td>-0.000185</td>\n",
       "      <td>-0.056242</td>\n",
       "      <td>0.097417</td>\n",
       "      <td>0.004107</td>\n",
       "      <td>-0.027319</td>\n",
       "      <td>-0.007882</td>\n",
       "      <td>-0.001716</td>\n",
       "      <td>0.001494</td>\n",
       "      <td>0.000855</td>\n",
       "    </tr>\n",
       "    <tr>\n",
       "      <th>job_services</th>\n",
       "      <td>-0.065780</td>\n",
       "      <td>-0.038151</td>\n",
       "      <td>-0.006531</td>\n",
       "      <td>0.001427</td>\n",
       "      <td>-0.004671</td>\n",
       "      <td>0.005710</td>\n",
       "      <td>-0.010926</td>\n",
       "      <td>-0.166592</td>\n",
       "      <td>-0.058659</td>\n",
       "      <td>-0.053416</td>\n",
       "      <td>...</td>\n",
       "      <td>-0.014615</td>\n",
       "      <td>0.003885</td>\n",
       "      <td>0.203018</td>\n",
       "      <td>-0.171417</td>\n",
       "      <td>0.000068</td>\n",
       "      <td>0.070435</td>\n",
       "      <td>0.035575</td>\n",
       "      <td>-0.012178</td>\n",
       "      <td>-0.022934</td>\n",
       "      <td>-0.027864</td>\n",
       "    </tr>\n",
       "    <tr>\n",
       "      <th>job_student</th>\n",
       "      <td>-0.197302</td>\n",
       "      <td>0.001233</td>\n",
       "      <td>-0.015894</td>\n",
       "      <td>-0.006504</td>\n",
       "      <td>-0.021813</td>\n",
       "      <td>0.024486</td>\n",
       "      <td>0.023556</td>\n",
       "      <td>-0.076234</td>\n",
       "      <td>-0.026843</td>\n",
       "      <td>-0.024443</td>\n",
       "      <td>...</td>\n",
       "      <td>-0.161871</td>\n",
       "      <td>0.211073</td>\n",
       "      <td>0.008266</td>\n",
       "      <td>-0.018034</td>\n",
       "      <td>-0.016222</td>\n",
       "      <td>-0.085066</td>\n",
       "      <td>-0.058503</td>\n",
       "      <td>0.024493</td>\n",
       "      <td>0.048048</td>\n",
       "      <td>0.076897</td>\n",
       "    </tr>\n",
       "    <tr>\n",
       "      <th>job_technician</th>\n",
       "      <td>-0.068632</td>\n",
       "      <td>-0.016183</td>\n",
       "      <td>0.032517</td>\n",
       "      <td>-0.009176</td>\n",
       "      <td>0.020739</td>\n",
       "      <td>-0.013478</td>\n",
       "      <td>-0.001123</td>\n",
       "      <td>-0.235376</td>\n",
       "      <td>-0.082878</td>\n",
       "      <td>-0.075470</td>\n",
       "      <td>...</td>\n",
       "      <td>-0.062950</td>\n",
       "      <td>0.061841</td>\n",
       "      <td>0.157443</td>\n",
       "      <td>-0.034665</td>\n",
       "      <td>-0.003089</td>\n",
       "      <td>-0.012823</td>\n",
       "      <td>0.014798</td>\n",
       "      <td>-0.040357</td>\n",
       "      <td>-0.002929</td>\n",
       "      <td>-0.008970</td>\n",
       "    </tr>\n",
       "    <tr>\n",
       "      <th>job_unemployed</th>\n",
       "      <td>0.000412</td>\n",
       "      <td>0.009023</td>\n",
       "      <td>-0.006382</td>\n",
       "      <td>0.020322</td>\n",
       "      <td>-0.018448</td>\n",
       "      <td>-0.010411</td>\n",
       "      <td>-0.008504</td>\n",
       "      <td>-0.090223</td>\n",
       "      <td>-0.031768</td>\n",
       "      <td>-0.028929</td>\n",
       "      <td>...</td>\n",
       "      <td>-0.014401</td>\n",
       "      <td>0.009506</td>\n",
       "      <td>0.015688</td>\n",
       "      <td>-0.027371</td>\n",
       "      <td>0.006470</td>\n",
       "      <td>-0.048229</td>\n",
       "      <td>-0.035961</td>\n",
       "      <td>0.008759</td>\n",
       "      <td>0.015044</td>\n",
       "      <td>0.020390</td>\n",
       "    </tr>\n",
       "    <tr>\n",
       "      <th>marital_married</th>\n",
       "      <td>0.286257</td>\n",
       "      <td>0.025708</td>\n",
       "      <td>0.007102</td>\n",
       "      <td>-0.022683</td>\n",
       "      <td>0.031371</td>\n",
       "      <td>-0.027600</td>\n",
       "      <td>-0.012691</td>\n",
       "      <td>0.122033</td>\n",
       "      <td>0.044319</td>\n",
       "      <td>0.045816</td>\n",
       "      <td>...</td>\n",
       "      <td>1.000000</td>\n",
       "      <td>-0.772357</td>\n",
       "      <td>-0.017724</td>\n",
       "      <td>-0.096019</td>\n",
       "      <td>-0.014460</td>\n",
       "      <td>0.017681</td>\n",
       "      <td>0.036906</td>\n",
       "      <td>0.048970</td>\n",
       "      <td>-0.018484</td>\n",
       "      <td>-0.060260</td>\n",
       "    </tr>\n",
       "    <tr>\n",
       "      <th>marital_single</th>\n",
       "      <td>-0.427817</td>\n",
       "      <td>-0.012537</td>\n",
       "      <td>-0.007412</td>\n",
       "      <td>0.020328</td>\n",
       "      <td>-0.023120</td>\n",
       "      <td>0.027943</td>\n",
       "      <td>0.017006</td>\n",
       "      <td>-0.088315</td>\n",
       "      <td>-0.050297</td>\n",
       "      <td>-0.062177</td>\n",
       "      <td>...</td>\n",
       "      <td>-0.772357</td>\n",
       "      <td>1.000000</td>\n",
       "      <td>0.005232</td>\n",
       "      <td>0.110915</td>\n",
       "      <td>0.003115</td>\n",
       "      <td>-0.020475</td>\n",
       "      <td>-0.051716</td>\n",
       "      <td>-0.040468</td>\n",
       "      <td>0.026105</td>\n",
       "      <td>0.063526</td>\n",
       "    </tr>\n",
       "    <tr>\n",
       "      <th>education_secondary</th>\n",
       "      <td>-0.093979</td>\n",
       "      <td>-0.069937</td>\n",
       "      <td>-0.005831</td>\n",
       "      <td>0.002084</td>\n",
       "      <td>-0.020893</td>\n",
       "      <td>0.022105</td>\n",
       "      <td>-0.005603</td>\n",
       "      <td>0.040548</td>\n",
       "      <td>-0.054865</td>\n",
       "      <td>-0.065396</td>\n",
       "      <td>...</td>\n",
       "      <td>-0.017724</td>\n",
       "      <td>0.005232</td>\n",
       "      <td>1.000000</td>\n",
       "      <td>-0.662890</td>\n",
       "      <td>0.013220</td>\n",
       "      <td>0.101659</td>\n",
       "      <td>0.070625</td>\n",
       "      <td>-0.022797</td>\n",
       "      <td>-0.024728</td>\n",
       "      <td>-0.036388</td>\n",
       "    </tr>\n",
       "    <tr>\n",
       "      <th>education_tertiary</th>\n",
       "      <td>-0.081629</td>\n",
       "      <td>0.084001</td>\n",
       "      <td>0.021730</td>\n",
       "      <td>0.000891</td>\n",
       "      <td>0.012866</td>\n",
       "      <td>-0.007568</td>\n",
       "      <td>0.022888</td>\n",
       "      <td>-0.320541</td>\n",
       "      <td>0.067639</td>\n",
       "      <td>-0.057004</td>\n",
       "      <td>...</td>\n",
       "      <td>-0.096019</td>\n",
       "      <td>0.110915</td>\n",
       "      <td>-0.662890</td>\n",
       "      <td>1.000000</td>\n",
       "      <td>-0.015239</td>\n",
       "      <td>-0.099175</td>\n",
       "      <td>-0.045940</td>\n",
       "      <td>-0.044719</td>\n",
       "      <td>0.047927</td>\n",
       "      <td>0.066448</td>\n",
       "    </tr>\n",
       "    <tr>\n",
       "      <th>has_credit</th>\n",
       "      <td>-0.017879</td>\n",
       "      <td>-0.066745</td>\n",
       "      <td>0.009424</td>\n",
       "      <td>-0.010021</td>\n",
       "      <td>0.016822</td>\n",
       "      <td>-0.029979</td>\n",
       "      <td>-0.018329</td>\n",
       "      <td>0.010341</td>\n",
       "      <td>0.026281</td>\n",
       "      <td>-0.000359</td>\n",
       "      <td>...</td>\n",
       "      <td>-0.014460</td>\n",
       "      <td>0.003115</td>\n",
       "      <td>0.013220</td>\n",
       "      <td>-0.015239</td>\n",
       "      <td>1.000000</td>\n",
       "      <td>-0.006025</td>\n",
       "      <td>0.077234</td>\n",
       "      <td>-0.017208</td>\n",
       "      <td>-0.023344</td>\n",
       "      <td>-0.022419</td>\n",
       "    </tr>\n",
       "    <tr>\n",
       "      <th>housing</th>\n",
       "      <td>-0.185513</td>\n",
       "      <td>-0.068768</td>\n",
       "      <td>-0.027982</td>\n",
       "      <td>0.005075</td>\n",
       "      <td>-0.023599</td>\n",
       "      <td>0.124178</td>\n",
       "      <td>0.037076</td>\n",
       "      <td>0.177475</td>\n",
       "      <td>0.010600</td>\n",
       "      <td>-0.079380</td>\n",
       "      <td>...</td>\n",
       "      <td>0.017681</td>\n",
       "      <td>-0.020475</td>\n",
       "      <td>0.101659</td>\n",
       "      <td>-0.099175</td>\n",
       "      <td>-0.006025</td>\n",
       "      <td>1.000000</td>\n",
       "      <td>0.041323</td>\n",
       "      <td>-0.080822</td>\n",
       "      <td>-0.091360</td>\n",
       "      <td>-0.139173</td>\n",
       "    </tr>\n",
       "    <tr>\n",
       "      <th>loan</th>\n",
       "      <td>-0.015655</td>\n",
       "      <td>-0.084350</td>\n",
       "      <td>0.011370</td>\n",
       "      <td>-0.012412</td>\n",
       "      <td>0.009980</td>\n",
       "      <td>-0.022754</td>\n",
       "      <td>-0.011043</td>\n",
       "      <td>0.018291</td>\n",
       "      <td>0.039808</td>\n",
       "      <td>-0.017234</td>\n",
       "      <td>...</td>\n",
       "      <td>0.036906</td>\n",
       "      <td>-0.051716</td>\n",
       "      <td>0.070625</td>\n",
       "      <td>-0.045940</td>\n",
       "      <td>0.077234</td>\n",
       "      <td>0.041323</td>\n",
       "      <td>1.000000</td>\n",
       "      <td>-0.013183</td>\n",
       "      <td>-0.053713</td>\n",
       "      <td>-0.068185</td>\n",
       "    </tr>\n",
       "    <tr>\n",
       "      <th>contact_telephone</th>\n",
       "      <td>0.170349</td>\n",
       "      <td>0.037999</td>\n",
       "      <td>0.023652</td>\n",
       "      <td>-0.023201</td>\n",
       "      <td>0.053895</td>\n",
       "      <td>0.016006</td>\n",
       "      <td>0.028097</td>\n",
       "      <td>-0.003190</td>\n",
       "      <td>-0.004338</td>\n",
       "      <td>0.039371</td>\n",
       "      <td>...</td>\n",
       "      <td>0.048970</td>\n",
       "      <td>-0.040468</td>\n",
       "      <td>-0.022797</td>\n",
       "      <td>-0.044719</td>\n",
       "      <td>-0.017208</td>\n",
       "      <td>-0.080822</td>\n",
       "      <td>-0.013183</td>\n",
       "      <td>1.000000</td>\n",
       "      <td>0.008470</td>\n",
       "      <td>0.014042</td>\n",
       "    </tr>\n",
       "    <tr>\n",
       "      <th>poutcome_success</th>\n",
       "      <td>0.035526</td>\n",
       "      <td>0.035240</td>\n",
       "      <td>-0.030321</td>\n",
       "      <td>0.042389</td>\n",
       "      <td>-0.057486</td>\n",
       "      <td>0.228539</td>\n",
       "      <td>0.201424</td>\n",
       "      <td>-0.053074</td>\n",
       "      <td>-0.019111</td>\n",
       "      <td>-0.009375</td>\n",
       "      <td>...</td>\n",
       "      <td>-0.018484</td>\n",
       "      <td>0.026105</td>\n",
       "      <td>-0.024728</td>\n",
       "      <td>0.047927</td>\n",
       "      <td>-0.023344</td>\n",
       "      <td>-0.091360</td>\n",
       "      <td>-0.053713</td>\n",
       "      <td>0.008470</td>\n",
       "      <td>1.000000</td>\n",
       "      <td>0.306788</td>\n",
       "    </tr>\n",
       "    <tr>\n",
       "      <th>target</th>\n",
       "      <td>0.025155</td>\n",
       "      <td>0.052838</td>\n",
       "      <td>-0.028348</td>\n",
       "      <td>0.394521</td>\n",
       "      <td>-0.073172</td>\n",
       "      <td>0.103621</td>\n",
       "      <td>0.093236</td>\n",
       "      <td>-0.072083</td>\n",
       "      <td>-0.019662</td>\n",
       "      <td>-0.015195</td>\n",
       "      <td>...</td>\n",
       "      <td>-0.060260</td>\n",
       "      <td>0.063526</td>\n",
       "      <td>-0.036388</td>\n",
       "      <td>0.066448</td>\n",
       "      <td>-0.022419</td>\n",
       "      <td>-0.139173</td>\n",
       "      <td>-0.068185</td>\n",
       "      <td>0.014042</td>\n",
       "      <td>0.306788</td>\n",
       "      <td>1.000000</td>\n",
       "    </tr>\n",
       "  </tbody>\n",
       "</table>\n",
       "<p>27 rows × 27 columns</p>\n",
       "</div>"
      ],
      "text/plain": [
       "                          age   balance       day  duration  campaign  \\\n",
       "age                  1.000000  0.097783 -0.009120 -0.004648  0.004760   \n",
       "balance              0.097783  1.000000  0.004503  0.021560 -0.014578   \n",
       "day                 -0.009120  0.004503  1.000000 -0.030206  0.162490   \n",
       "duration            -0.004648  0.021560 -0.030206  1.000000 -0.084570   \n",
       "campaign             0.004760 -0.014578  0.162490 -0.084570  1.000000   \n",
       "pdays               -0.023758  0.003435 -0.093044 -0.001565 -0.088628   \n",
       "previous             0.001288  0.016674 -0.051710  0.001203 -0.032855   \n",
       "job_blue-collar     -0.044002 -0.048757 -0.022898  0.009637  0.008986   \n",
       "job_entrepreneur     0.021792  0.009642 -0.002312 -0.001327  0.002128   \n",
       "job_housemaid        0.086650  0.001661  0.003955 -0.008046  0.003097   \n",
       "job_management      -0.023571  0.067797  0.019021 -0.008323  0.016686   \n",
       "job_retired          0.447378  0.046900 -0.010123  0.026032 -0.030913   \n",
       "job_self-employed   -0.008093  0.017850  0.005062  0.007383  0.005479   \n",
       "job_services        -0.065780 -0.038151 -0.006531  0.001427 -0.004671   \n",
       "job_student         -0.197302  0.001233 -0.015894 -0.006504 -0.021813   \n",
       "job_technician      -0.068632 -0.016183  0.032517 -0.009176  0.020739   \n",
       "job_unemployed       0.000412  0.009023 -0.006382  0.020322 -0.018448   \n",
       "marital_married      0.286257  0.025708  0.007102 -0.022683  0.031371   \n",
       "marital_single      -0.427817 -0.012537 -0.007412  0.020328 -0.023120   \n",
       "education_secondary -0.093979 -0.069937 -0.005831  0.002084 -0.020893   \n",
       "education_tertiary  -0.081629  0.084001  0.021730  0.000891  0.012866   \n",
       "has_credit          -0.017879 -0.066745  0.009424 -0.010021  0.016822   \n",
       "housing             -0.185513 -0.068768 -0.027982  0.005075 -0.023599   \n",
       "loan                -0.015655 -0.084350  0.011370 -0.012412  0.009980   \n",
       "contact_telephone    0.170349  0.037999  0.023652 -0.023201  0.053895   \n",
       "poutcome_success     0.035526  0.035240 -0.030321  0.042389 -0.057486   \n",
       "target               0.025155  0.052838 -0.028348  0.394521 -0.073172   \n",
       "\n",
       "                        pdays  previous  job_blue-collar  job_entrepreneur  \\\n",
       "age                 -0.023758  0.001288        -0.044002          0.021792   \n",
       "balance              0.003435  0.016674        -0.048757          0.009642   \n",
       "day                 -0.093044 -0.051710        -0.022898         -0.002312   \n",
       "duration            -0.001565  0.001203         0.009637         -0.001327   \n",
       "campaign            -0.088628 -0.032855         0.008986          0.002128   \n",
       "pdays                1.000000  0.454820         0.020063         -0.014203   \n",
       "previous             0.454820  1.000000        -0.017095         -0.008181   \n",
       "job_blue-collar      0.020063 -0.017095         1.000000         -0.096585   \n",
       "job_entrepreneur    -0.014203 -0.008181        -0.096585          1.000000   \n",
       "job_housemaid       -0.031350 -0.015204        -0.087951         -0.030969   \n",
       "job_management      -0.007871  0.019579        -0.269376         -0.094850   \n",
       "job_retired         -0.006315  0.005818        -0.120251         -0.042342   \n",
       "job_self-employed   -0.010356 -0.002371        -0.099633         -0.035082   \n",
       "job_services         0.005710 -0.010926        -0.166592         -0.058659   \n",
       "job_student          0.024486  0.023556        -0.076234         -0.026843   \n",
       "job_technician      -0.013478 -0.001123        -0.235376         -0.082878   \n",
       "job_unemployed      -0.010411 -0.008504        -0.090223         -0.031768   \n",
       "marital_married     -0.027600 -0.012691         0.122033          0.044319   \n",
       "marital_single       0.027943  0.017006        -0.088315         -0.050297   \n",
       "education_secondary  0.022105 -0.005603         0.040548         -0.054865   \n",
       "education_tertiary  -0.007568  0.022888        -0.320541          0.067639   \n",
       "has_credit          -0.029979 -0.018329         0.010341          0.026281   \n",
       "housing              0.124178  0.037076         0.177475          0.010600   \n",
       "loan                -0.022754 -0.011043         0.018291          0.039808   \n",
       "contact_telephone    0.016006  0.028097        -0.003190         -0.004338   \n",
       "poutcome_success     0.228539  0.201424        -0.053074         -0.019111   \n",
       "target               0.103621  0.093236        -0.072083         -0.019662   \n",
       "\n",
       "                     job_housemaid  ...  marital_married  marital_single  \\\n",
       "age                       0.086650  ...         0.286257       -0.427817   \n",
       "balance                   0.001661  ...         0.025708       -0.012537   \n",
       "day                       0.003955  ...         0.007102       -0.007412   \n",
       "duration                 -0.008046  ...        -0.022683        0.020328   \n",
       "campaign                  0.003097  ...         0.031371       -0.023120   \n",
       "pdays                    -0.031350  ...        -0.027600        0.027943   \n",
       "previous                 -0.015204  ...        -0.012691        0.017006   \n",
       "job_blue-collar          -0.087951  ...         0.122033       -0.088315   \n",
       "job_entrepreneur         -0.030969  ...         0.044319       -0.050297   \n",
       "job_housemaid             1.000000  ...         0.045816       -0.062177   \n",
       "job_management           -0.086372  ...        -0.032560        0.032765   \n",
       "job_retired              -0.038557  ...         0.076288       -0.119892   \n",
       "job_self-employed        -0.031946  ...         0.010472       -0.000185   \n",
       "job_services             -0.053416  ...        -0.014615        0.003885   \n",
       "job_student              -0.024443  ...        -0.161871        0.211073   \n",
       "job_technician           -0.075470  ...        -0.062950        0.061841   \n",
       "job_unemployed           -0.028929  ...        -0.014401        0.009506   \n",
       "marital_married           0.045816  ...         1.000000       -0.772357   \n",
       "marital_single           -0.062177  ...        -0.772357        1.000000   \n",
       "education_secondary      -0.065396  ...        -0.017724        0.005232   \n",
       "education_tertiary       -0.057004  ...        -0.096019        0.110915   \n",
       "has_credit               -0.000359  ...        -0.014460        0.003115   \n",
       "housing                  -0.079380  ...         0.017681       -0.020475   \n",
       "loan                     -0.017234  ...         0.036906       -0.051716   \n",
       "contact_telephone         0.039371  ...         0.048970       -0.040468   \n",
       "poutcome_success         -0.009375  ...        -0.018484        0.026105   \n",
       "target                   -0.015195  ...        -0.060260        0.063526   \n",
       "\n",
       "                     education_secondary  education_tertiary  has_credit  \\\n",
       "age                            -0.093979           -0.081629   -0.017879   \n",
       "balance                        -0.069937            0.084001   -0.066745   \n",
       "day                            -0.005831            0.021730    0.009424   \n",
       "duration                        0.002084            0.000891   -0.010021   \n",
       "campaign                       -0.020893            0.012866    0.016822   \n",
       "pdays                           0.022105           -0.007568   -0.029979   \n",
       "previous                       -0.005603            0.022888   -0.018329   \n",
       "job_blue-collar                 0.040548           -0.320541    0.010341   \n",
       "job_entrepreneur               -0.054865            0.067639    0.026281   \n",
       "job_housemaid                  -0.065396           -0.057004   -0.000359   \n",
       "job_management                 -0.406124            0.598900   -0.002655   \n",
       "job_retired                    -0.036089           -0.066780   -0.011290   \n",
       "job_self-employed              -0.056242            0.097417    0.004107   \n",
       "job_services                    0.203018           -0.171417    0.000068   \n",
       "job_student                     0.008266           -0.018034   -0.016222   \n",
       "job_technician                  0.157443           -0.034665   -0.003089   \n",
       "job_unemployed                  0.015688           -0.027371    0.006470   \n",
       "marital_married                -0.017724           -0.096019   -0.014460   \n",
       "marital_single                  0.005232            0.110915    0.003115   \n",
       "education_secondary             1.000000           -0.662890    0.013220   \n",
       "education_tertiary             -0.662890            1.000000   -0.015239   \n",
       "has_credit                      0.013220           -0.015239    1.000000   \n",
       "housing                         0.101659           -0.099175   -0.006025   \n",
       "loan                            0.070625           -0.045940    0.077234   \n",
       "contact_telephone              -0.022797           -0.044719   -0.017208   \n",
       "poutcome_success               -0.024728            0.047927   -0.023344   \n",
       "target                         -0.036388            0.066448   -0.022419   \n",
       "\n",
       "                      housing      loan  contact_telephone  poutcome_success  \\\n",
       "age                 -0.185513 -0.015655           0.170349          0.035526   \n",
       "balance             -0.068768 -0.084350           0.037999          0.035240   \n",
       "day                 -0.027982  0.011370           0.023652         -0.030321   \n",
       "duration             0.005075 -0.012412          -0.023201          0.042389   \n",
       "campaign            -0.023599  0.009980           0.053895         -0.057486   \n",
       "pdays                0.124178 -0.022754           0.016006          0.228539   \n",
       "previous             0.037076 -0.011043           0.028097          0.201424   \n",
       "job_blue-collar      0.177475  0.018291          -0.003190         -0.053074   \n",
       "job_entrepreneur     0.010600  0.039808          -0.004338         -0.019111   \n",
       "job_housemaid       -0.079380 -0.017234           0.039371         -0.009375   \n",
       "job_management      -0.063382 -0.038904          -0.030362          0.021453   \n",
       "job_retired         -0.156633 -0.014861           0.107299          0.055485   \n",
       "job_self-employed   -0.027319 -0.007882          -0.001716          0.001494   \n",
       "job_services         0.070435  0.035575          -0.012178         -0.022934   \n",
       "job_student         -0.085066 -0.058503           0.024493          0.048048   \n",
       "job_technician      -0.012823  0.014798          -0.040357         -0.002929   \n",
       "job_unemployed      -0.048229 -0.035961           0.008759          0.015044   \n",
       "marital_married      0.017681  0.036906           0.048970         -0.018484   \n",
       "marital_single      -0.020475 -0.051716          -0.040468          0.026105   \n",
       "education_secondary  0.101659  0.070625          -0.022797         -0.024728   \n",
       "education_tertiary  -0.099175 -0.045940          -0.044719          0.047927   \n",
       "has_credit          -0.006025  0.077234          -0.017208         -0.023344   \n",
       "housing              1.000000  0.041323          -0.080822         -0.091360   \n",
       "loan                 0.041323  1.000000          -0.013183         -0.053713   \n",
       "contact_telephone   -0.080822 -0.013183           1.000000          0.008470   \n",
       "poutcome_success    -0.091360 -0.053713           0.008470          1.000000   \n",
       "target              -0.139173 -0.068185           0.014042          0.306788   \n",
       "\n",
       "                       target  \n",
       "age                  0.025155  \n",
       "balance              0.052838  \n",
       "day                 -0.028348  \n",
       "duration             0.394521  \n",
       "campaign            -0.073172  \n",
       "pdays                0.103621  \n",
       "previous             0.093236  \n",
       "job_blue-collar     -0.072083  \n",
       "job_entrepreneur    -0.019662  \n",
       "job_housemaid       -0.015195  \n",
       "job_management       0.032919  \n",
       "job_retired          0.079245  \n",
       "job_self-employed    0.000855  \n",
       "job_services        -0.027864  \n",
       "job_student          0.076897  \n",
       "job_technician      -0.008970  \n",
       "job_unemployed       0.020390  \n",
       "marital_married     -0.060260  \n",
       "marital_single       0.063526  \n",
       "education_secondary -0.036388  \n",
       "education_tertiary   0.066448  \n",
       "has_credit          -0.022419  \n",
       "housing             -0.139173  \n",
       "loan                -0.068185  \n",
       "contact_telephone    0.014042  \n",
       "poutcome_success     0.306788  \n",
       "target               1.000000  \n",
       "\n",
       "[27 rows x 27 columns]"
      ]
     },
     "execution_count": 35,
     "metadata": {},
     "output_type": "execute_result"
    }
   ],
   "source": [
    "correlation = df1.corr()\n",
    "correlation"
   ]
  },
  {
   "cell_type": "code",
   "execution_count": 36,
   "metadata": {},
   "outputs": [
    {
     "data": {
      "text/plain": [
       "<matplotlib.axes._subplots.AxesSubplot at 0x1a667f93408>"
      ]
     },
     "execution_count": 36,
     "metadata": {},
     "output_type": "execute_result"
    },
    {
     "data": {
      "image/png": "[encoded data removed]",
      "text/plain": [
       "<Figure size 432x288 with 2 Axes>"
      ]
     },
     "metadata": {
      "needs_background": "light"
     },
     "output_type": "display_data"
    }
   ],
   "source": [
    "sns.heatmap(correlation)"
   ]
  },
  {
   "cell_type": "markdown",
   "metadata": {},
   "source": [
    "we can deduce that there is not a correlation between features."
   ]
  },
  {
   "cell_type": "code",
   "execution_count": 39,
   "metadata": {},
   "outputs": [
    {
     "data": {
      "application/vnd.plotly.v1+json": {
       "config": {
        "linkText": "Export to plot.ly",
        "plotlyServerURL": "https://plot.ly",
        "showLink": false
       },
       "data": [
        {
         "hole": 0.5,
         "hoverinfo": "label+value+text",
         "labels": [
          0,
          1
         ],
         "marker": {
          "colors": [
           "royalblue",
           "lime"
          ],
          "line": {
           "color": "white",
           "width": 1.3
          }
         },
         "rotation": 90,
         "type": "pie",
         "values": [
          39922,
          5289
         ]
        }
       ],
       "layout": {
        "paper_bgcolor": "rgb(243,243,243)",
        "plot_bgcolor": "rgb(243,243,243)",
        "template": {
         "data": {
          "bar": [
           {
            "error_x": {
             "color": "#2a3f5f"
            },
            "error_y": {
             "color": "#2a3f5f"
            },
            "marker": {
             "line": {
              "color": "#E5ECF6",
              "width": 0.5
             }
            },
            "type": "bar"
           }
          ],
          "barpolar": [
           {
            "marker": {
             "line": {
              "color": "#E5ECF6",
              "width": 0.5
             }
            },
            "type": "barpolar"
           }
          ],
          "carpet": [
           {
            "aaxis": {
             "endlinecolor": "#2a3f5f",
             "gridcolor": "white",
             "linecolor": "white",
             "minorgridcolor": "white",
             "startlinecolor": "#2a3f5f"
            },
            "baxis": {
             "endlinecolor": "#2a3f5f",
             "gridcolor": "white",
             "linecolor": "white",
             "minorgridcolor": "white",
             "startlinecolor": "#2a3f5f"
            },
            "type": "carpet"
           }
          ],
          "choropleth": [
           {
            "colorbar": {
             "outlinewidth": 0,
             "ticks": ""
            },
            "type": "choropleth"
           }
          ],
          "contour": [
           {
            "colorbar": {
             "outlinewidth": 0,
             "ticks": ""
            },
            "colorscale": [
             [
              0,
              "#0d0887"
             ],
             [
              0.1111111111111111,
              "#46039f"
             ],
             [
              0.2222222222222222,
              "#7201a8"
             ],
             [
              0.3333333333333333,
              "#9c179e"
             ],
             [
              0.4444444444444444,
              "#bd3786"
             ],
             [
              0.5555555555555556,
              "#d8576b"
             ],
             [
              0.6666666666666666,
              "#ed7953"
             ],
             [
              0.7777777777777778,
              "#fb9f3a"
             ],
             [
              0.8888888888888888,
              "#fdca26"
             ],
             [
              1,
              "#f0f921"
             ]
            ],
            "type": "contour"
           }
          ],
          "contourcarpet": [
           {
            "colorbar": {
             "outlinewidth": 0,
             "ticks": ""
            },
            "type": "contourcarpet"
           }
          ],
          "heatmap": [
           {
            "colorbar": {
             "outlinewidth": 0,
             "ticks": ""
            },
            "colorscale": [
             [
              0,
              "#0d0887"
             ],
             [
              0.1111111111111111,
              "#46039f"
             ],
             [
              0.2222222222222222,
              "#7201a8"
             ],
             [
              0.3333333333333333,
              "#9c179e"
             ],
             [
              0.4444444444444444,
              "#bd3786"
             ],
             [
              0.5555555555555556,
              "#d8576b"
             ],
             [
              0.6666666666666666,
              "#ed7953"
             ],
             [
              0.7777777777777778,
              "#fb9f3a"
             ],
             [
              0.8888888888888888,
              "#fdca26"
             ],
             [
              1,
              "#f0f921"
             ]
            ],
            "type": "heatmap"
           }
          ],
          "heatmapgl": [
           {
            "colorbar": {
             "outlinewidth": 0,
             "ticks": ""
            },
            "colorscale": [
             [
              0,
              "#0d0887"
             ],
             [
              0.1111111111111111,
              "#46039f"
             ],
             [
              0.2222222222222222,
              "#7201a8"
             ],
             [
              0.3333333333333333,
              "#9c179e"
             ],
             [
              0.4444444444444444,
              "#bd3786"
             ],
             [
              0.5555555555555556,
              "#d8576b"
             ],
             [
              0.6666666666666666,
              "#ed7953"
             ],
             [
              0.7777777777777778,
              "#fb9f3a"
             ],
             [
              0.8888888888888888,
              "#fdca26"
             ],
             [
              1,
              "#f0f921"
             ]
            ],
            "type": "heatmapgl"
           }
          ],
          "histogram": [
           {
            "marker": {
             "colorbar": {
              "outlinewidth": 0,
              "ticks": ""
             }
            },
            "type": "histogram"
           }
          ],
          "histogram2d": [
           {
            "colorbar": {
             "outlinewidth": 0,
             "ticks": ""
            },
            "colorscale": [
             [
              0,
              "#0d0887"
             ],
             [
              0.1111111111111111,
              "#46039f"
             ],
             [
              0.2222222222222222,
              "#7201a8"
             ],
             [
              0.3333333333333333,
              "#9c179e"
             ],
             [
              0.4444444444444444,
              "#bd3786"
             ],
             [
              0.5555555555555556,
              "#d8576b"
             ],
             [
              0.6666666666666666,
              "#ed7953"
             ],
             [
              0.7777777777777778,
              "#fb9f3a"
             ],
             [
              0.8888888888888888,
              "#fdca26"
             ],
             [
              1,
              "#f0f921"
             ]
            ],
            "type": "histogram2d"
           }
          ],
          "histogram2dcontour": [
           {
            "colorbar": {
             "outlinewidth": 0,
             "ticks": ""
            },
            "colorscale": [
             [
              0,
              "#0d0887"
             ],
             [
              0.1111111111111111,
              "#46039f"
             ],
             [
              0.2222222222222222,
              "#7201a8"
             ],
             [
              0.3333333333333333,
              "#9c179e"
             ],
             [
              0.4444444444444444,
              "#bd3786"
             ],
             [
              0.5555555555555556,
              "#d8576b"
             ],
             [
              0.6666666666666666,
              "#ed7953"
             ],
             [
              0.7777777777777778,
              "#fb9f3a"
             ],
             [
              0.8888888888888888,
              "#fdca26"
             ],
             [
              1,
              "#f0f921"
             ]
            ],
            "type": "histogram2dcontour"
           }
          ],
          "mesh3d": [
           {
            "colorbar": {
             "outlinewidth": 0,
             "ticks": ""
            },
            "type": "mesh3d"
           }
          ],
          "parcoords": [
           {
            "line": {
             "colorbar": {
              "outlinewidth": 0,
              "ticks": ""
             }
            },
            "type": "parcoords"
           }
          ],
          "pie": [
           {
            "automargin": true,
            "type": "pie"
           }
          ],
          "scatter": [
           {
            "marker": {
             "colorbar": {
              "outlinewidth": 0,
              "ticks": ""
             }
            },
            "type": "scatter"
           }
          ],
          "scatter3d": [
           {
            "line": {
             "colorbar": {
              "outlinewidth": 0,
              "ticks": ""
             }
            },
            "marker": {
             "colorbar": {
              "outlinewidth": 0,
              "ticks": ""
             }
            },
            "type": "scatter3d"
           }
          ],
          "scattercarpet": [
           {
            "marker": {
             "colorbar": {
              "outlinewidth": 0,
              "ticks": ""
             }
            },
            "type": "scattercarpet"
           }
          ],
          "scattergeo": [
           {
            "marker": {
             "colorbar": {
              "outlinewidth": 0,
              "ticks": ""
             }
            },
            "type": "scattergeo"
           }
          ],
          "scattergl": [
           {
            "marker": {
             "colorbar": {
              "outlinewidth": 0,
              "ticks": ""
             }
            },
            "type": "scattergl"
           }
          ],
          "scattermapbox": [
           {
            "marker": {
             "colorbar": {
              "outlinewidth": 0,
              "ticks": ""
             }
            },
            "type": "scattermapbox"
           }
          ],
          "scatterpolar": [
           {
            "marker": {
             "colorbar": {
              "outlinewidth": 0,
              "ticks": ""
             }
            },
            "type": "scatterpolar"
           }
          ],
          "scatterpolargl": [
           {
            "marker": {
             "colorbar": {
              "outlinewidth": 0,
              "ticks": ""
             }
            },
            "type": "scatterpolargl"
           }
          ],
          "scatterternary": [
           {
            "marker": {
             "colorbar": {
              "outlinewidth": 0,
              "ticks": ""
             }
            },
            "type": "scatterternary"
           }
          ],
          "surface": [
           {
            "colorbar": {
             "outlinewidth": 0,
             "ticks": ""
            },
            "colorscale": [
             [
              0,
              "#0d0887"
             ],
             [
              0.1111111111111111,
              "#46039f"
             ],
             [
              0.2222222222222222,
              "#7201a8"
             ],
             [
              0.3333333333333333,
              "#9c179e"
             ],
             [
              0.4444444444444444,
              "#bd3786"
             ],
             [
              0.5555555555555556,
              "#d8576b"
             ],
             [
              0.6666666666666666,
              "#ed7953"
             ],
             [
              0.7777777777777778,
              "#fb9f3a"
             ],
             [
              0.8888888888888888,
              "#fdca26"
             ],
             [
              1,
              "#f0f921"
             ]
            ],
            "type": "surface"
           }
          ],
          "table": [
           {
            "cells": {
             "fill": {
              "color": "#EBF0F8"
             },
             "line": {
              "color": "white"
             }
            },
            "header": {
             "fill": {
              "color": "#C8D4E3"
             },
             "line": {
              "color": "white"
             }
            },
            "type": "table"
           }
          ]
         },
         "layout": {
          "annotationdefaults": {
           "arrowcolor": "#2a3f5f",
           "arrowhead": 0,
           "arrowwidth": 1
          },
          "coloraxis": {
           "colorbar": {
            "outlinewidth": 0,
            "ticks": ""
           }
          },
          "colorscale": {
           "diverging": [
            [
             0,
             "#8e0152"
            ],
            [
             0.1,
             "#c51b7d"
            ],
            [
             0.2,
             "#de77ae"
            ],
            [
             0.3,
             "#f1b6da"
            ],
            [
             0.4,
             "#fde0ef"
            ],
            [
             0.5,
             "#f7f7f7"
            ],
            [
             0.6,
             "#e6f5d0"
            ],
            [
             0.7,
             "#b8e186"
            ],
            [
             0.8,
             "#7fbc41"
            ],
            [
             0.9,
             "#4d9221"
            ],
            [
             1,
             "#276419"
            ]
           ],
           "sequential": [
            [
             0,
             "#0d0887"
            ],
            [
             0.1111111111111111,
             "#46039f"
            ],
            [
             0.2222222222222222,
             "#7201a8"
            ],
            [
             0.3333333333333333,
             "#9c179e"
            ],
            [
             0.4444444444444444,
             "#bd3786"
            ],
            [
             0.5555555555555556,
             "#d8576b"
            ],
            [
             0.6666666666666666,
             "#ed7953"
            ],
            [
             0.7777777777777778,
             "#fb9f3a"
            ],
            [
             0.8888888888888888,
             "#fdca26"
            ],
            [
             1,
             "#f0f921"
            ]
           ],
           "sequentialminus": [
            [
             0,
             "#0d0887"
            ],
            [
             0.1111111111111111,
             "#46039f"
            ],
            [
             0.2222222222222222,
             "#7201a8"
            ],
            [
             0.3333333333333333,
             "#9c179e"
            ],
            [
             0.4444444444444444,
             "#bd3786"
            ],
            [
             0.5555555555555556,
             "#d8576b"
            ],
            [
             0.6666666666666666,
             "#ed7953"
            ],
            [
             0.7777777777777778,
             "#fb9f3a"
            ],
            [
             0.8888888888888888,
             "#fdca26"
            ],
            [
             1,
             "#f0f921"
            ]
           ]
          },
          "colorway": [
           "#636efa",
           "#EF553B",
           "#00cc96",
           "#ab63fa",
           "#FFA15A",
           "#19d3f3",
           "#FF6692",
           "#B6E880",
           "#FF97FF",
           "#FECB52"
          ],
          "font": {
           "color": "#2a3f5f"
          },
          "geo": {
           "bgcolor": "white",
           "lakecolor": "white",
           "landcolor": "#E5ECF6",
           "showlakes": true,
           "showland": true,
           "subunitcolor": "white"
          },
          "hoverlabel": {
           "align": "left"
          },
          "hovermode": "closest",
          "mapbox": {
           "style": "light"
          },
          "paper_bgcolor": "white",
          "plot_bgcolor": "#E5ECF6",
          "polar": {
           "angularaxis": {
            "gridcolor": "white",
            "linecolor": "white",
            "ticks": ""
           },
           "bgcolor": "#E5ECF6",
           "radialaxis": {
            "gridcolor": "white",
            "linecolor": "white",
            "ticks": ""
           }
          },
          "scene": {
           "xaxis": {
            "backgroundcolor": "#E5ECF6",
            "gridcolor": "white",
            "gridwidth": 2,
            "linecolor": "white",
            "showbackground": true,
            "ticks": "",
            "zerolinecolor": "white"
           },
           "yaxis": {
            "backgroundcolor": "#E5ECF6",
            "gridcolor": "white",
            "gridwidth": 2,
            "linecolor": "white",
            "showbackground": true,
            "ticks": "",
            "zerolinecolor": "white"
           },
           "zaxis": {
            "backgroundcolor": "#E5ECF6",
            "gridcolor": "white",
            "gridwidth": 2,
            "linecolor": "white",
            "showbackground": true,
            "ticks": "",
            "zerolinecolor": "white"
           }
          },
          "shapedefaults": {
           "line": {
            "color": "#2a3f5f"
           }
          },
          "ternary": {
           "aaxis": {
            "gridcolor": "white",
            "linecolor": "white",
            "ticks": ""
           },
           "baxis": {
            "gridcolor": "white",
            "linecolor": "white",
            "ticks": ""
           },
           "bgcolor": "#E5ECF6",
           "caxis": {
            "gridcolor": "white",
            "linecolor": "white",
            "ticks": ""
           }
          },
          "title": {
           "x": 0.05
          },
          "xaxis": {
           "automargin": true,
           "gridcolor": "white",
           "linecolor": "white",
           "ticks": "",
           "title": {
            "standoff": 15
           },
           "zerolinecolor": "white",
           "zerolinewidth": 2
          },
          "yaxis": {
           "automargin": true,
           "gridcolor": "white",
           "linecolor": "white",
           "ticks": "",
           "title": {
            "standoff": 15
           },
           "zerolinecolor": "white",
           "zerolinewidth": 2
          }
         }
        },
        "title": {
         "text": "Customer subscribing a term deposit"
        }
       }
      },
      "text/html": [
       "<div>\n",
       "        \n",
       "        \n",
       "            <div id=\"9be88014-df50-48aa-bbb6-db68bdc3eed7\" class=\"plotly-graph-div\" style=\"height:525px; width:100%;\"></div>\n",
       "            <script type=\"text/javascript\">\n",
       "                require([\"plotly\"], function(Plotly) {\n",
       "                    window.PLOTLYENV=window.PLOTLYENV || {};\n",
       "                    \n",
       "                if (document.getElementById(\"9be88014-df50-48aa-bbb6-db68bdc3eed7\")) {\n",
       "                    Plotly.newPlot(\n",
       "                        '9be88014-df50-48aa-bbb6-db68bdc3eed7',\n",
       "                        [{\"hole\": 0.5, \"hoverinfo\": \"label+value+text\", \"labels\": [0, 1], \"marker\": {\"colors\": [\"royalblue\", \"lime\"], \"line\": {\"color\": \"white\", \"width\": 1.3}}, \"rotation\": 90, \"type\": \"pie\", \"values\": [39922, 5289]}],\n",
       "                        {\"paper_bgcolor\": \"rgb(243,243,243)\", \"plot_bgcolor\": \"rgb(243,243,243)\", \"template\": {\"data\": {\"bar\": [{\"error_x\": {\"color\": \"#2a3f5f\"}, \"error_y\": {\"color\": \"#2a3f5f\"}, \"marker\": {\"line\": {\"color\": \"#E5ECF6\", \"width\": 0.5}}, \"type\": \"bar\"}], \"barpolar\": [{\"marker\": {\"line\": {\"color\": \"#E5ECF6\", \"width\": 0.5}}, \"type\": \"barpolar\"}], \"carpet\": [{\"aaxis\": {\"endlinecolor\": \"#2a3f5f\", \"gridcolor\": \"white\", \"linecolor\": \"white\", \"minorgridcolor\": \"white\", \"startlinecolor\": \"#2a3f5f\"}, \"baxis\": {\"endlinecolor\": \"#2a3f5f\", \"gridcolor\": \"white\", \"linecolor\": \"white\", \"minorgridcolor\": \"white\", \"startlinecolor\": \"#2a3f5f\"}, \"type\": \"carpet\"}], \"choropleth\": [{\"colorbar\": {\"outlinewidth\": 0, \"ticks\": \"\"}, \"type\": \"choropleth\"}], \"contour\": [{\"colorbar\": {\"outlinewidth\": 0, \"ticks\": \"\"}, \"colorscale\": [[0.0, \"#0d0887\"], [0.1111111111111111, \"#46039f\"], [0.2222222222222222, \"#7201a8\"], [0.3333333333333333, \"#9c179e\"], [0.4444444444444444, \"#bd3786\"], [0.5555555555555556, \"#d8576b\"], [0.6666666666666666, \"#ed7953\"], [0.7777777777777778, \"#fb9f3a\"], [0.8888888888888888, \"#fdca26\"], [1.0, \"#f0f921\"]], \"type\": \"contour\"}], \"contourcarpet\": [{\"colorbar\": {\"outlinewidth\": 0, \"ticks\": \"\"}, \"type\": \"contourcarpet\"}], \"heatmap\": [{\"colorbar\": {\"outlinewidth\": 0, \"ticks\": \"\"}, \"colorscale\": [[0.0, \"#0d0887\"], [0.1111111111111111, \"#46039f\"], [0.2222222222222222, \"#7201a8\"], [0.3333333333333333, \"#9c179e\"], [0.4444444444444444, \"#bd3786\"], [0.5555555555555556, \"#d8576b\"], [0.6666666666666666, \"#ed7953\"], [0.7777777777777778, \"#fb9f3a\"], [0.8888888888888888, \"#fdca26\"], [1.0, \"#f0f921\"]], \"type\": \"heatmap\"}], \"heatmapgl\": [{\"colorbar\": {\"outlinewidth\": 0, \"ticks\": \"\"}, \"colorscale\": [[0.0, \"#0d0887\"], [0.1111111111111111, \"#46039f\"], [0.2222222222222222, \"#7201a8\"], [0.3333333333333333, \"#9c179e\"], [0.4444444444444444, \"#bd3786\"], [0.5555555555555556, \"#d8576b\"], [0.6666666666666666, \"#ed7953\"], [0.7777777777777778, \"#fb9f3a\"], [0.8888888888888888, \"#fdca26\"], [1.0, \"#f0f921\"]], \"type\": \"heatmapgl\"}], \"histogram\": [{\"marker\": {\"colorbar\": {\"outlinewidth\": 0, \"ticks\": \"\"}}, \"type\": \"histogram\"}], \"histogram2d\": [{\"colorbar\": {\"outlinewidth\": 0, \"ticks\": \"\"}, \"colorscale\": [[0.0, \"#0d0887\"], [0.1111111111111111, \"#46039f\"], [0.2222222222222222, \"#7201a8\"], [0.3333333333333333, \"#9c179e\"], [0.4444444444444444, \"#bd3786\"], [0.5555555555555556, \"#d8576b\"], [0.6666666666666666, \"#ed7953\"], [0.7777777777777778, \"#fb9f3a\"], [0.8888888888888888, \"#fdca26\"], [1.0, \"#f0f921\"]], \"type\": \"histogram2d\"}], \"histogram2dcontour\": [{\"colorbar\": {\"outlinewidth\": 0, \"ticks\": \"\"}, \"colorscale\": [[0.0, \"#0d0887\"], [0.1111111111111111, \"#46039f\"], [0.2222222222222222, \"#7201a8\"], [0.3333333333333333, \"#9c179e\"], [0.4444444444444444, \"#bd3786\"], [0.5555555555555556, \"#d8576b\"], [0.6666666666666666, \"#ed7953\"], [0.7777777777777778, \"#fb9f3a\"], [0.8888888888888888, \"#fdca26\"], [1.0, \"#f0f921\"]], \"type\": \"histogram2dcontour\"}], \"mesh3d\": [{\"colorbar\": {\"outlinewidth\": 0, \"ticks\": \"\"}, \"type\": \"mesh3d\"}], \"parcoords\": [{\"line\": {\"colorbar\": {\"outlinewidth\": 0, \"ticks\": \"\"}}, \"type\": \"parcoords\"}], \"pie\": [{\"automargin\": true, \"type\": \"pie\"}], \"scatter\": [{\"marker\": {\"colorbar\": {\"outlinewidth\": 0, \"ticks\": \"\"}}, \"type\": \"scatter\"}], \"scatter3d\": [{\"line\": {\"colorbar\": {\"outlinewidth\": 0, \"ticks\": \"\"}}, \"marker\": {\"colorbar\": {\"outlinewidth\": 0, \"ticks\": \"\"}}, \"type\": \"scatter3d\"}], \"scattercarpet\": [{\"marker\": {\"colorbar\": {\"outlinewidth\": 0, \"ticks\": \"\"}}, \"type\": \"scattercarpet\"}], \"scattergeo\": [{\"marker\": {\"colorbar\": {\"outlinewidth\": 0, \"ticks\": \"\"}}, \"type\": \"scattergeo\"}], \"scattergl\": [{\"marker\": {\"colorbar\": {\"outlinewidth\": 0, \"ticks\": \"\"}}, \"type\": \"scattergl\"}], \"scattermapbox\": [{\"marker\": {\"colorbar\": {\"outlinewidth\": 0, \"ticks\": \"\"}}, \"type\": \"scattermapbox\"}], \"scatterpolar\": [{\"marker\": {\"colorbar\": {\"outlinewidth\": 0, \"ticks\": \"\"}}, \"type\": \"scatterpolar\"}], \"scatterpolargl\": [{\"marker\": {\"colorbar\": {\"outlinewidth\": 0, \"ticks\": \"\"}}, \"type\": \"scatterpolargl\"}], \"scatterternary\": [{\"marker\": {\"colorbar\": {\"outlinewidth\": 0, \"ticks\": \"\"}}, \"type\": \"scatterternary\"}], \"surface\": [{\"colorbar\": {\"outlinewidth\": 0, \"ticks\": \"\"}, \"colorscale\": [[0.0, \"#0d0887\"], [0.1111111111111111, \"#46039f\"], [0.2222222222222222, \"#7201a8\"], [0.3333333333333333, \"#9c179e\"], [0.4444444444444444, \"#bd3786\"], [0.5555555555555556, \"#d8576b\"], [0.6666666666666666, \"#ed7953\"], [0.7777777777777778, \"#fb9f3a\"], [0.8888888888888888, \"#fdca26\"], [1.0, \"#f0f921\"]], \"type\": \"surface\"}], \"table\": [{\"cells\": {\"fill\": {\"color\": \"#EBF0F8\"}, \"line\": {\"color\": \"white\"}}, \"header\": {\"fill\": {\"color\": \"#C8D4E3\"}, \"line\": {\"color\": \"white\"}}, \"type\": \"table\"}]}, \"layout\": {\"annotationdefaults\": {\"arrowcolor\": \"#2a3f5f\", \"arrowhead\": 0, \"arrowwidth\": 1}, \"coloraxis\": {\"colorbar\": {\"outlinewidth\": 0, \"ticks\": \"\"}}, \"colorscale\": {\"diverging\": [[0, \"#8e0152\"], [0.1, \"#c51b7d\"], [0.2, \"#de77ae\"], [0.3, \"#f1b6da\"], [0.4, \"#fde0ef\"], [0.5, \"#f7f7f7\"], [0.6, \"#e6f5d0\"], [0.7, \"#b8e186\"], [0.8, \"#7fbc41\"], [0.9, \"#4d9221\"], [1, \"#276419\"]], \"sequential\": [[0.0, \"#0d0887\"], [0.1111111111111111, \"#46039f\"], [0.2222222222222222, \"#7201a8\"], [0.3333333333333333, \"#9c179e\"], [0.4444444444444444, \"#bd3786\"], [0.5555555555555556, \"#d8576b\"], [0.6666666666666666, \"#ed7953\"], [0.7777777777777778, \"#fb9f3a\"], [0.8888888888888888, \"#fdca26\"], [1.0, \"#f0f921\"]], \"sequentialminus\": [[0.0, \"#0d0887\"], [0.1111111111111111, \"#46039f\"], [0.2222222222222222, \"#7201a8\"], [0.3333333333333333, \"#9c179e\"], [0.4444444444444444, \"#bd3786\"], [0.5555555555555556, \"#d8576b\"], [0.6666666666666666, \"#ed7953\"], [0.7777777777777778, \"#fb9f3a\"], [0.8888888888888888, \"#fdca26\"], [1.0, \"#f0f921\"]]}, \"colorway\": [\"#636efa\", \"#EF553B\", \"#00cc96\", \"#ab63fa\", \"#FFA15A\", \"#19d3f3\", \"#FF6692\", \"#B6E880\", \"#FF97FF\", \"#FECB52\"], \"font\": {\"color\": \"#2a3f5f\"}, \"geo\": {\"bgcolor\": \"white\", \"lakecolor\": \"white\", \"landcolor\": \"#E5ECF6\", \"showlakes\": true, \"showland\": true, \"subunitcolor\": \"white\"}, \"hoverlabel\": {\"align\": \"left\"}, \"hovermode\": \"closest\", \"mapbox\": {\"style\": \"light\"}, \"paper_bgcolor\": \"white\", \"plot_bgcolor\": \"#E5ECF6\", \"polar\": {\"angularaxis\": {\"gridcolor\": \"white\", \"linecolor\": \"white\", \"ticks\": \"\"}, \"bgcolor\": \"#E5ECF6\", \"radialaxis\": {\"gridcolor\": \"white\", \"linecolor\": \"white\", \"ticks\": \"\"}}, \"scene\": {\"xaxis\": {\"backgroundcolor\": \"#E5ECF6\", \"gridcolor\": \"white\", \"gridwidth\": 2, \"linecolor\": \"white\", \"showbackground\": true, \"ticks\": \"\", \"zerolinecolor\": \"white\"}, \"yaxis\": {\"backgroundcolor\": \"#E5ECF6\", \"gridcolor\": \"white\", \"gridwidth\": 2, \"linecolor\": \"white\", \"showbackground\": true, \"ticks\": \"\", \"zerolinecolor\": \"white\"}, \"zaxis\": {\"backgroundcolor\": \"#E5ECF6\", \"gridcolor\": \"white\", \"gridwidth\": 2, \"linecolor\": \"white\", \"showbackground\": true, \"ticks\": \"\", \"zerolinecolor\": \"white\"}}, \"shapedefaults\": {\"line\": {\"color\": \"#2a3f5f\"}}, \"ternary\": {\"aaxis\": {\"gridcolor\": \"white\", \"linecolor\": \"white\", \"ticks\": \"\"}, \"baxis\": {\"gridcolor\": \"white\", \"linecolor\": \"white\", \"ticks\": \"\"}, \"bgcolor\": \"#E5ECF6\", \"caxis\": {\"gridcolor\": \"white\", \"linecolor\": \"white\", \"ticks\": \"\"}}, \"title\": {\"x\": 0.05}, \"xaxis\": {\"automargin\": true, \"gridcolor\": \"white\", \"linecolor\": \"white\", \"ticks\": \"\", \"title\": {\"standoff\": 15}, \"zerolinecolor\": \"white\", \"zerolinewidth\": 2}, \"yaxis\": {\"automargin\": true, \"gridcolor\": \"white\", \"linecolor\": \"white\", \"ticks\": \"\", \"title\": {\"standoff\": 15}, \"zerolinecolor\": \"white\", \"zerolinewidth\": 2}}}, \"title\": {\"text\": \"Customer subscribing a term deposit\"}},\n",
       "                        {\"responsive\": true}\n",
       "                    ).then(function(){\n",
       "                            \n",
       "var gd = document.getElementById('9be88014-df50-48aa-bbb6-db68bdc3eed7');\n",
       "var x = new MutationObserver(function (mutations, observer) {{\n",
       "        var display = window.getComputedStyle(gd).display;\n",
       "        if (!display || display === 'none') {{\n",
       "            console.log([gd, 'removed!']);\n",
       "            Plotly.purge(gd);\n",
       "            observer.disconnect();\n",
       "        }}\n",
       "}});\n",
       "\n",
       "// Listen for the removal of the full notebook cells\n",
       "var notebookContainer = gd.closest('#notebook-container');\n",
       "if (notebookContainer) {{\n",
       "    x.observe(notebookContainer, {childList: true});\n",
       "}}\n",
       "\n",
       "// Listen for the clearing of the current output cell\n",
       "var outputEl = gd.closest('.output');\n",
       "if (outputEl) {{\n",
       "    x.observe(outputEl, {childList: true});\n",
       "}}\n",
       "\n",
       "                        })\n",
       "                };\n",
       "                });\n",
       "            </script>\n",
       "        </div>"
      ]
     },
     "metadata": {},
     "output_type": "display_data"
    }
   ],
   "source": [
    "import plotly.graph_objs as go#visualization\n",
    "import plotly.offline as py#visualization\n",
    "#labels\n",
    "lab = df1[\"target\"].value_counts().keys().tolist()\n",
    "#values\n",
    "val = df1[\"target\"].value_counts().values.tolist()\n",
    "\n",
    "trace = go.Pie(labels = lab ,\n",
    "               values = val ,\n",
    "               marker = dict(colors =  [ 'royalblue' ,'lime'],\n",
    "                             line = dict(color = \"white\",\n",
    "                                         width =  1.3)\n",
    "                            ),\n",
    "               rotation = 90,\n",
    "               hoverinfo = \"label+value+text\",\n",
    "               hole = .5\n",
    "              )\n",
    "layout = go.Layout(dict(title = \"Customer subscribing a term deposit\",\n",
    "                        plot_bgcolor  = \"rgb(243,243,243)\",\n",
    "                        paper_bgcolor = \"rgb(243,243,243)\",\n",
    "                       )\n",
    "                  )\n",
    "\n",
    "data = [trace]\n",
    "fig = go.Figure(data = data,layout = layout)\n",
    "py.iplot(fig)"
   ]
  },
  {
   "cell_type": "markdown",
   "metadata": {},
   "source": [
    "We deduce from this piechart that the data is not balanced. "
   ]
  },
  {
   "cell_type": "markdown",
   "metadata": {},
   "source": [
    "# Model"
   ]
  },
  {
   "cell_type": "code",
   "execution_count": 31,
   "metadata": {},
   "outputs": [],
   "source": [
    "from sklearn.model_selection import train_test_split"
   ]
  },
  {
   "cell_type": "code",
   "execution_count": 32,
   "metadata": {},
   "outputs": [],
   "source": [
    "X = df1.drop('y',axis=1)\n",
    "y = df1['y']"
   ]
  },
  {
   "cell_type": "code",
   "execution_count": 33,
   "metadata": {},
   "outputs": [
    {
     "data": {
      "text/html": [
       "<div>\n",
       "<style scoped>\n",
       "    .dataframe tbody tr th:only-of-type {\n",
       "        vertical-align: middle;\n",
       "    }\n",
       "\n",
       "    .dataframe tbody tr th {\n",
       "        vertical-align: top;\n",
       "    }\n",
       "\n",
       "    .dataframe thead th {\n",
       "        text-align: right;\n",
       "    }\n",
       "</style>\n",
       "<table border=\"1\" class=\"dataframe\">\n",
       "  <thead>\n",
       "    <tr style=\"text-align: right;\">\n",
       "      <th></th>\n",
       "      <th>age</th>\n",
       "      <th>balance</th>\n",
       "      <th>day</th>\n",
       "      <th>duration</th>\n",
       "      <th>campaign</th>\n",
       "      <th>pdays</th>\n",
       "      <th>previous</th>\n",
       "      <th>job_blue-collar</th>\n",
       "      <th>job_entrepreneur</th>\n",
       "      <th>job_housemaid</th>\n",
       "      <th>...</th>\n",
       "      <th>job_unemployed</th>\n",
       "      <th>marital_married</th>\n",
       "      <th>marital_single</th>\n",
       "      <th>education_secondary</th>\n",
       "      <th>education_tertiary</th>\n",
       "      <th>has_credit</th>\n",
       "      <th>housing</th>\n",
       "      <th>loan</th>\n",
       "      <th>contact_telephone</th>\n",
       "      <th>poutcome_success</th>\n",
       "    </tr>\n",
       "  </thead>\n",
       "  <tbody>\n",
       "    <tr>\n",
       "      <th>count</th>\n",
       "      <td>45211.000000</td>\n",
       "      <td>45211.000000</td>\n",
       "      <td>45211.000000</td>\n",
       "      <td>45211.000000</td>\n",
       "      <td>45211.000000</td>\n",
       "      <td>45211.000000</td>\n",
       "      <td>45211.000000</td>\n",
       "      <td>45211.000000</td>\n",
       "      <td>45211.000000</td>\n",
       "      <td>45211.000000</td>\n",
       "      <td>...</td>\n",
       "      <td>45211.000000</td>\n",
       "      <td>45211.000000</td>\n",
       "      <td>45211.000000</td>\n",
       "      <td>45211.000000</td>\n",
       "      <td>45211.000000</td>\n",
       "      <td>45211.000000</td>\n",
       "      <td>45211.000000</td>\n",
       "      <td>45211.000000</td>\n",
       "      <td>45211.000000</td>\n",
       "      <td>45211.000000</td>\n",
       "    </tr>\n",
       "    <tr>\n",
       "      <th>mean</th>\n",
       "      <td>40.936210</td>\n",
       "      <td>1362.272058</td>\n",
       "      <td>15.806419</td>\n",
       "      <td>258.163080</td>\n",
       "      <td>2.763841</td>\n",
       "      <td>40.197828</td>\n",
       "      <td>0.580323</td>\n",
       "      <td>0.215257</td>\n",
       "      <td>0.032890</td>\n",
       "      <td>0.027427</td>\n",
       "      <td>...</td>\n",
       "      <td>0.028820</td>\n",
       "      <td>0.601933</td>\n",
       "      <td>0.282896</td>\n",
       "      <td>0.513194</td>\n",
       "      <td>0.294198</td>\n",
       "      <td>0.018027</td>\n",
       "      <td>0.555838</td>\n",
       "      <td>0.160226</td>\n",
       "      <td>0.064276</td>\n",
       "      <td>0.033421</td>\n",
       "    </tr>\n",
       "    <tr>\n",
       "      <th>std</th>\n",
       "      <td>10.618762</td>\n",
       "      <td>3044.765829</td>\n",
       "      <td>8.322476</td>\n",
       "      <td>257.527812</td>\n",
       "      <td>3.098021</td>\n",
       "      <td>100.128746</td>\n",
       "      <td>2.303441</td>\n",
       "      <td>0.411005</td>\n",
       "      <td>0.178351</td>\n",
       "      <td>0.163326</td>\n",
       "      <td>...</td>\n",
       "      <td>0.167303</td>\n",
       "      <td>0.489505</td>\n",
       "      <td>0.450411</td>\n",
       "      <td>0.499831</td>\n",
       "      <td>0.455687</td>\n",
       "      <td>0.133049</td>\n",
       "      <td>0.496878</td>\n",
       "      <td>0.366820</td>\n",
       "      <td>0.245247</td>\n",
       "      <td>0.179735</td>\n",
       "    </tr>\n",
       "    <tr>\n",
       "      <th>min</th>\n",
       "      <td>18.000000</td>\n",
       "      <td>-8019.000000</td>\n",
       "      <td>1.000000</td>\n",
       "      <td>0.000000</td>\n",
       "      <td>1.000000</td>\n",
       "      <td>-1.000000</td>\n",
       "      <td>0.000000</td>\n",
       "      <td>0.000000</td>\n",
       "      <td>0.000000</td>\n",
       "      <td>0.000000</td>\n",
       "      <td>...</td>\n",
       "      <td>0.000000</td>\n",
       "      <td>0.000000</td>\n",
       "      <td>0.000000</td>\n",
       "      <td>0.000000</td>\n",
       "      <td>0.000000</td>\n",
       "      <td>0.000000</td>\n",
       "      <td>0.000000</td>\n",
       "      <td>0.000000</td>\n",
       "      <td>0.000000</td>\n",
       "      <td>0.000000</td>\n",
       "    </tr>\n",
       "    <tr>\n",
       "      <th>25%</th>\n",
       "      <td>33.000000</td>\n",
       "      <td>72.000000</td>\n",
       "      <td>8.000000</td>\n",
       "      <td>103.000000</td>\n",
       "      <td>1.000000</td>\n",
       "      <td>-1.000000</td>\n",
       "      <td>0.000000</td>\n",
       "      <td>0.000000</td>\n",
       "      <td>0.000000</td>\n",
       "      <td>0.000000</td>\n",
       "      <td>...</td>\n",
       "      <td>0.000000</td>\n",
       "      <td>0.000000</td>\n",
       "      <td>0.000000</td>\n",
       "      <td>0.000000</td>\n",
       "      <td>0.000000</td>\n",
       "      <td>0.000000</td>\n",
       "      <td>0.000000</td>\n",
       "      <td>0.000000</td>\n",
       "      <td>0.000000</td>\n",
       "      <td>0.000000</td>\n",
       "    </tr>\n",
       "    <tr>\n",
       "      <th>50%</th>\n",
       "      <td>39.000000</td>\n",
       "      <td>448.000000</td>\n",
       "      <td>16.000000</td>\n",
       "      <td>180.000000</td>\n",
       "      <td>2.000000</td>\n",
       "      <td>-1.000000</td>\n",
       "      <td>0.000000</td>\n",
       "      <td>0.000000</td>\n",
       "      <td>0.000000</td>\n",
       "      <td>0.000000</td>\n",
       "      <td>...</td>\n",
       "      <td>0.000000</td>\n",
       "      <td>1.000000</td>\n",
       "      <td>0.000000</td>\n",
       "      <td>1.000000</td>\n",
       "      <td>0.000000</td>\n",
       "      <td>0.000000</td>\n",
       "      <td>1.000000</td>\n",
       "      <td>0.000000</td>\n",
       "      <td>0.000000</td>\n",
       "      <td>0.000000</td>\n",
       "    </tr>\n",
       "    <tr>\n",
       "      <th>75%</th>\n",
       "      <td>48.000000</td>\n",
       "      <td>1428.000000</td>\n",
       "      <td>21.000000</td>\n",
       "      <td>319.000000</td>\n",
       "      <td>3.000000</td>\n",
       "      <td>-1.000000</td>\n",
       "      <td>0.000000</td>\n",
       "      <td>0.000000</td>\n",
       "      <td>0.000000</td>\n",
       "      <td>0.000000</td>\n",
       "      <td>...</td>\n",
       "      <td>0.000000</td>\n",
       "      <td>1.000000</td>\n",
       "      <td>1.000000</td>\n",
       "      <td>1.000000</td>\n",
       "      <td>1.000000</td>\n",
       "      <td>0.000000</td>\n",
       "      <td>1.000000</td>\n",
       "      <td>0.000000</td>\n",
       "      <td>0.000000</td>\n",
       "      <td>0.000000</td>\n",
       "    </tr>\n",
       "    <tr>\n",
       "      <th>max</th>\n",
       "      <td>95.000000</td>\n",
       "      <td>102127.000000</td>\n",
       "      <td>31.000000</td>\n",
       "      <td>4918.000000</td>\n",
       "      <td>63.000000</td>\n",
       "      <td>871.000000</td>\n",
       "      <td>275.000000</td>\n",
       "      <td>1.000000</td>\n",
       "      <td>1.000000</td>\n",
       "      <td>1.000000</td>\n",
       "      <td>...</td>\n",
       "      <td>1.000000</td>\n",
       "      <td>1.000000</td>\n",
       "      <td>1.000000</td>\n",
       "      <td>1.000000</td>\n",
       "      <td>1.000000</td>\n",
       "      <td>1.000000</td>\n",
       "      <td>1.000000</td>\n",
       "      <td>1.000000</td>\n",
       "      <td>1.000000</td>\n",
       "      <td>1.000000</td>\n",
       "    </tr>\n",
       "  </tbody>\n",
       "</table>\n",
       "<p>8 rows × 26 columns</p>\n",
       "</div>"
      ],
      "text/plain": [
       "                age        balance           day      duration      campaign  \\\n",
       "count  45211.000000   45211.000000  45211.000000  45211.000000  45211.000000   \n",
       "mean      40.936210    1362.272058     15.806419    258.163080      2.763841   \n",
       "std       10.618762    3044.765829      8.322476    257.527812      3.098021   \n",
       "min       18.000000   -8019.000000      1.000000      0.000000      1.000000   \n",
       "25%       33.000000      72.000000      8.000000    103.000000      1.000000   \n",
       "50%       39.000000     448.000000     16.000000    180.000000      2.000000   \n",
       "75%       48.000000    1428.000000     21.000000    319.000000      3.000000   \n",
       "max       95.000000  102127.000000     31.000000   4918.000000     63.000000   \n",
       "\n",
       "              pdays      previous  job_blue-collar  job_entrepreneur  \\\n",
       "count  45211.000000  45211.000000     45211.000000      45211.000000   \n",
       "mean      40.197828      0.580323         0.215257          0.032890   \n",
       "std      100.128746      2.303441         0.411005          0.178351   \n",
       "min       -1.000000      0.000000         0.000000          0.000000   \n",
       "25%       -1.000000      0.000000         0.000000          0.000000   \n",
       "50%       -1.000000      0.000000         0.000000          0.000000   \n",
       "75%       -1.000000      0.000000         0.000000          0.000000   \n",
       "max      871.000000    275.000000         1.000000          1.000000   \n",
       "\n",
       "       job_housemaid  ...  job_unemployed  marital_married  marital_single  \\\n",
       "count   45211.000000  ...    45211.000000     45211.000000    45211.000000   \n",
       "mean        0.027427  ...        0.028820         0.601933        0.282896   \n",
       "std         0.163326  ...        0.167303         0.489505        0.450411   \n",
       "min         0.000000  ...        0.000000         0.000000        0.000000   \n",
       "25%         0.000000  ...        0.000000         0.000000        0.000000   \n",
       "50%         0.000000  ...        0.000000         1.000000        0.000000   \n",
       "75%         0.000000  ...        0.000000         1.000000        1.000000   \n",
       "max         1.000000  ...        1.000000         1.000000        1.000000   \n",
       "\n",
       "       education_secondary  education_tertiary    has_credit       housing  \\\n",
       "count         45211.000000        45211.000000  45211.000000  45211.000000   \n",
       "mean              0.513194            0.294198      0.018027      0.555838   \n",
       "std               0.499831            0.455687      0.133049      0.496878   \n",
       "min               0.000000            0.000000      0.000000      0.000000   \n",
       "25%               0.000000            0.000000      0.000000      0.000000   \n",
       "50%               1.000000            0.000000      0.000000      1.000000   \n",
       "75%               1.000000            1.000000      0.000000      1.000000   \n",
       "max               1.000000            1.000000      1.000000      1.000000   \n",
       "\n",
       "               loan  contact_telephone  poutcome_success  \n",
       "count  45211.000000       45211.000000      45211.000000  \n",
       "mean       0.160226           0.064276          0.033421  \n",
       "std        0.366820           0.245247          0.179735  \n",
       "min        0.000000           0.000000          0.000000  \n",
       "25%        0.000000           0.000000          0.000000  \n",
       "50%        0.000000           0.000000          0.000000  \n",
       "75%        0.000000           0.000000          0.000000  \n",
       "max        1.000000           1.000000          1.000000  \n",
       "\n",
       "[8 rows x 26 columns]"
      ]
     },
     "execution_count": 33,
     "metadata": {},
     "output_type": "execute_result"
    }
   ],
   "source": [
    "X.describe()"
   ]
  },
  {
   "cell_type": "markdown",
   "metadata": {},
   "source": [
    "We can see that the data is not in the same scale. So let's convert them into a coherent data by applying the Standardscaler"
   ]
  },
  {
   "cell_type": "code",
   "execution_count": 37,
   "metadata": {},
   "outputs": [],
   "source": [
    "from sklearn.preprocessing import StandardScaler\n",
    "standardscaller = StandardScaler()\n",
    "X_scaled = standardscaller.fit_transform(X)"
   ]
  },
  {
   "cell_type": "code",
   "execution_count": 38,
   "metadata": {},
   "outputs": [],
   "source": [
    "X_train,X_test,y_train,y_test = train_test_split(X_scaled,y,test_size=0.20, random_state=40,stratify=y)"
   ]
  },
  {
   "cell_type": "code",
   "execution_count": 39,
   "metadata": {},
   "outputs": [
    {
     "data": {
      "text/plain": [
       "0    0.883018\n",
       "1    0.116982\n",
       "Name: y, dtype: float64"
      ]
     },
     "execution_count": 39,
     "metadata": {},
     "output_type": "execute_result"
    }
   ],
   "source": [
    "y_train.value_counts(normalize=True)"
   ]
  },
  {
   "cell_type": "markdown",
   "metadata": {},
   "source": [
    "## KNeighborsClassifier"
   ]
  },
  {
   "cell_type": "code",
   "execution_count": 40,
   "metadata": {},
   "outputs": [],
   "source": [
    "from sklearn.neighbors import KNeighborsClassifier\n",
    "from sklearn.metrics import confusion_matrix,accuracy_score,auc, roc_auc_score, roc_curve,f1_score,precision_score,recall_score"
   ]
  },
  {
   "cell_type": "code",
   "execution_count": 41,
   "metadata": {},
   "outputs": [],
   "source": [
    "X_train_scalled_df = pd.DataFrame(X_train,columns=X.columns)"
   ]
  },
  {
   "cell_type": "code",
   "execution_count": 42,
   "metadata": {},
   "outputs": [
    {
     "data": {
      "text/plain": [
       "array([[7751,  234],\n",
       "       [ 726,  332]], dtype=int64)"
      ]
     },
     "execution_count": 42,
     "metadata": {},
     "output_type": "execute_result"
    }
   ],
   "source": [
    "knn=KNeighborsClassifier(5)\n",
    "knn.fit(X_train,y_train)\n",
    "y_pred1=knn.predict(X_test)\n",
    "confusion_matrix(y_test,y_pred1)"
   ]
  },
  {
   "cell_type": "code",
   "execution_count": 88,
   "metadata": {},
   "outputs": [
    {
     "data": {
      "text/html": [
       "<div>\n",
       "<style scoped>\n",
       "    .dataframe tbody tr th:only-of-type {\n",
       "        vertical-align: middle;\n",
       "    }\n",
       "\n",
       "    .dataframe tbody tr th {\n",
       "        vertical-align: top;\n",
       "    }\n",
       "\n",
       "    .dataframe thead th {\n",
       "        text-align: right;\n",
       "    }\n",
       "</style>\n",
       "<table border=\"1\" class=\"dataframe\">\n",
       "  <thead>\n",
       "    <tr style=\"text-align: right;\">\n",
       "      <th></th>\n",
       "      <th>model</th>\n",
       "      <th>accuracy</th>\n",
       "      <th>f1_score</th>\n",
       "      <th>precision</th>\n",
       "      <th>recall</th>\n",
       "    </tr>\n",
       "  </thead>\n",
       "  <tbody>\n",
       "    <tr>\n",
       "      <th>0</th>\n",
       "      <td>KNeighborsClassifier</td>\n",
       "      <td>0.893841</td>\n",
       "      <td>0.408867</td>\n",
       "      <td>0.586572</td>\n",
       "      <td>0.3138</td>\n",
       "    </tr>\n",
       "  </tbody>\n",
       "</table>\n",
       "</div>"
      ],
      "text/plain": [
       "                  model  accuracy  f1_score  precision  recall\n",
       "0  KNeighborsClassifier  0.893841  0.408867   0.586572  0.3138"
      ]
     },
     "execution_count": 88,
     "metadata": {},
     "output_type": "execute_result"
    }
   ],
   "source": [
    "acc0 = accuracy_score(y_test,y_pred1)\n",
    "f_score0 = f1_score(y_test,y_pred1)\n",
    "precision0 = precision_score(y_test,y_pred1) \n",
    "recall0 = recall_score(y_test,y_pred1)\n",
    "dct = {'model':'KNeighborsClassifier','accuracy':acc0,'f1_score':f_score0,'precision':[precision0],'recall':recall0}\n",
    "df_models = pd.DataFrame(data=dct)\n",
    "df_models"
   ]
  },
  {
   "cell_type": "markdown",
   "metadata": {},
   "source": [
    "The scalling does not change a lot in the resulat of knnclassifier.\n",
    "Let's try another type of model. Because we don't have yet a satisfactory result"
   ]
  },
  {
   "cell_type": "markdown",
   "metadata": {},
   "source": [
    "## Logistic Regresion"
   ]
  },
  {
   "cell_type": "code",
   "execution_count": 89,
   "metadata": {},
   "outputs": [],
   "source": [
    "from sklearn.linear_model import LogisticRegression"
   ]
  },
  {
   "cell_type": "code",
   "execution_count": 90,
   "metadata": {},
   "outputs": [
    {
     "data": {
      "text/plain": [
       "array([[6651, 1334],\n",
       "       [ 218,  840]], dtype=int64)"
      ]
     },
     "execution_count": 90,
     "metadata": {},
     "output_type": "execute_result"
    }
   ],
   "source": [
    "logist=LogisticRegression(max_iter=10000, class_weight='balanced')\n",
    "logist.fit(X_train,y_train)\n",
    "y_pred3=logist.predict(X_test)\n",
    "confusion_matrix(y_test,y_pred3)"
   ]
  },
  {
   "cell_type": "code",
   "execution_count": 91,
   "metadata": {},
   "outputs": [
    {
     "data": {
      "text/plain": [
       "0.7939508506616257"
      ]
     },
     "execution_count": 91,
     "metadata": {},
     "output_type": "execute_result"
    }
   ],
   "source": [
    "acc1 = accuracy_score(y_test,y_pred3)\n",
    "f_score1 = f1_score(y_test,y_pred3)\n",
    "precision1 = precision_score(y_test,y_pred3)\n",
    "recall1 = recall_score(y_test,y_pred3)\n",
    "recall1"
   ]
  },
  {
   "cell_type": "code",
   "execution_count": 92,
   "metadata": {},
   "outputs": [],
   "source": [
    "dct = {'model':'LogisticRegression','accuracy':acc1,'f1_score':f_score1,'precision':[precision1],'recall':recall1}"
   ]
  },
  {
   "cell_type": "code",
   "execution_count": 93,
   "metadata": {},
   "outputs": [
    {
     "data": {
      "text/html": [
       "<div>\n",
       "<style scoped>\n",
       "    .dataframe tbody tr th:only-of-type {\n",
       "        vertical-align: middle;\n",
       "    }\n",
       "\n",
       "    .dataframe tbody tr th {\n",
       "        vertical-align: top;\n",
       "    }\n",
       "\n",
       "    .dataframe thead th {\n",
       "        text-align: right;\n",
       "    }\n",
       "</style>\n",
       "<table border=\"1\" class=\"dataframe\">\n",
       "  <thead>\n",
       "    <tr style=\"text-align: right;\">\n",
       "      <th></th>\n",
       "      <th>model</th>\n",
       "      <th>accuracy</th>\n",
       "      <th>f1_score</th>\n",
       "      <th>precision</th>\n",
       "      <th>recall</th>\n",
       "    </tr>\n",
       "  </thead>\n",
       "  <tbody>\n",
       "    <tr>\n",
       "      <th>0</th>\n",
       "      <td>KNeighborsClassifier</td>\n",
       "      <td>0.893841</td>\n",
       "      <td>0.408867</td>\n",
       "      <td>0.586572</td>\n",
       "      <td>0.313800</td>\n",
       "    </tr>\n",
       "    <tr>\n",
       "      <th>0</th>\n",
       "      <td>LogisticRegression</td>\n",
       "      <td>0.828376</td>\n",
       "      <td>0.519802</td>\n",
       "      <td>0.386385</td>\n",
       "      <td>0.793951</td>\n",
       "    </tr>\n",
       "  </tbody>\n",
       "</table>\n",
       "</div>"
      ],
      "text/plain": [
       "                  model  accuracy  f1_score  precision    recall\n",
       "0  KNeighborsClassifier  0.893841  0.408867   0.586572  0.313800\n",
       "0    LogisticRegression  0.828376  0.519802   0.386385  0.793951"
      ]
     },
     "execution_count": 93,
     "metadata": {},
     "output_type": "execute_result"
    }
   ],
   "source": [
    "df_model1 = pd.DataFrame(data=dct)\n",
    "df_models.append(df_model1)"
   ]
  },
  {
   "cell_type": "code",
   "execution_count": 97,
   "metadata": {},
   "outputs": [
    {
     "data": {
      "text/plain": [
       "<matplotlib.axes._subplots.AxesSubplot at 0x1fc3f604b08>"
      ]
     },
     "execution_count": 97,
     "metadata": {},
     "output_type": "execute_result"
    },
    {
     "data": {
      "image/png": "[encoded data removed]",
      "text/plain": [
       "<Figure size 432x288 with 1 Axes>"
      ]
     },
     "metadata": {
      "needs_background": "light"
     },
     "output_type": "display_data"
    }
   ],
   "source": [
    "df_models.plot()"
   ]
  },
  {
   "cell_type": "markdown",
   "metadata": {},
   "source": [
    "## Non-linear Support Vector machine"
   ]
  },
  {
   "cell_type": "code",
   "execution_count": 94,
   "metadata": {},
   "outputs": [],
   "source": [
    "from sklearn.svm import NuSVC"
   ]
  },
  {
   "cell_type": "code",
   "execution_count": 128,
   "metadata": {},
   "outputs": [
    {
     "data": {
      "text/plain": [
       "array([[7489,  496],\n",
       "       [ 668,  390]], dtype=int64)"
      ]
     },
     "execution_count": 128,
     "metadata": {},
     "output_type": "execute_result"
    }
   ],
   "source": [
    "nusvc = NuSVC(nu=0.1,probability=True)\n",
    "nusvc.fit(X_train,y_train)\n",
    "y_pred4 = nusvc.predict(X_test)\n",
    "confusion_matrix(y_test,y_pred4)"
   ]
  },
  {
   "cell_type": "code",
   "execution_count": 98,
   "metadata": {},
   "outputs": [],
   "source": [
    "acc2 = accuracy_score(y_test,y_pred4)\n",
    "\n",
    "f_score2 = f1_score(y_test,y_pred4)\n",
    "precision2 = precision_score(y_test,y_pred4)\n",
    "recall2 = recall_score(y_test,y_pred4)"
   ]
  },
  {
   "cell_type": "code",
   "execution_count": 127,
   "metadata": {},
   "outputs": [],
   "source": [
    "?NuSVC"
   ]
  },
  {
   "cell_type": "code",
   "execution_count": 99,
   "metadata": {},
   "outputs": [],
   "source": [
    "dct = {'model':'NuSVC','accuracy':acc2,'f1_score':f_score2,'precision':[precision2],'recall':recall2}\n",
    "df_model2 = pd.DataFrame(data=dct)\n",
    "df_models = df_models.append(df_model2)"
   ]
  },
  {
   "cell_type": "markdown",
   "metadata": {},
   "source": [
    "# Other models"
   ]
  },
  {
   "cell_type": "code",
   "execution_count": 100,
   "metadata": {},
   "outputs": [],
   "source": [
    "from sklearn.ensemble import RandomForestClassifier\n",
    "from sklearn.naive_bayes import GaussianNB\n",
    "from sklearn.tree import DecisionTreeClassifier\n",
    "from xgboost import XGBClassifier"
   ]
  },
  {
   "cell_type": "code",
   "execution_count": 101,
   "metadata": {},
   "outputs": [
    {
     "name": "stdout",
     "output_type": "stream",
     "text": [
      "-------------------------------------------------------------------------------\n",
      "The model  RandomForestClassifier  is STARTED\n",
      "Accuracy of RandomForestClassifier  = 0.9053411478491651\n",
      "Confusion matrix =  [[7785  200]\n",
      " [ 656  402]]\n",
      "-------------------------------------------------------------------------------\n",
      "The model  DecisionTreeClassifier  is STARTED\n",
      "Accuracy of DecisionTreeClassifier  = 0.8587858011721774\n",
      "Confusion matrix =  [[7297  688]\n",
      " [ 589  469]]\n",
      "-------------------------------------------------------------------------------\n",
      "The model  GaussianNB  is STARTED\n",
      "Accuracy of GaussianNB  = 0.8595598805706071\n",
      "Confusion matrix =  [[7216  769]\n",
      " [ 501  557]]\n"
     ]
    }
   ],
   "source": [
    "model_list = [RandomForestClassifier, DecisionTreeClassifier, GaussianNB]\n",
    "l_models = []\n",
    "l_acc = []\n",
    "for model in model_list:\n",
    "    print('-------------------------------------------------------------------------------')\n",
    "    model_name = model.__name__\n",
    "    print('The model ', model_name,' is STARTED')\n",
    "    model5 = model().fit(X_train, y_train)\n",
    "    l_models.append(model5)\n",
    "    y_pred5 = model5.predict(X_test)\n",
    "    print('Accuracy of',model_name,' =', accuracy_score(y_test, y_pred5))\n",
    "    print('Confusion matrix = ',confusion_matrix(y_test, y_pred5))\n",
    "    \n",
    "    l_acc.append(accuracy_score(y_test, y_pred5))"
   ]
  },
  {
   "cell_type": "code",
   "execution_count": 102,
   "metadata": {},
   "outputs": [
    {
     "data": {
      "text/html": [
       "<div>\n",
       "<style scoped>\n",
       "    .dataframe tbody tr th:only-of-type {\n",
       "        vertical-align: middle;\n",
       "    }\n",
       "\n",
       "    .dataframe tbody tr th {\n",
       "        vertical-align: top;\n",
       "    }\n",
       "\n",
       "    .dataframe thead th {\n",
       "        text-align: right;\n",
       "    }\n",
       "</style>\n",
       "<table border=\"1\" class=\"dataframe\">\n",
       "  <thead>\n",
       "    <tr style=\"text-align: right;\">\n",
       "      <th></th>\n",
       "      <th>model</th>\n",
       "      <th>accuracy</th>\n",
       "      <th>f1_score</th>\n",
       "      <th>precision</th>\n",
       "      <th>recall</th>\n",
       "    </tr>\n",
       "  </thead>\n",
       "  <tbody>\n",
       "    <tr>\n",
       "      <th>0</th>\n",
       "      <td>KNeighborsClassifier</td>\n",
       "      <td>0.893841</td>\n",
       "      <td>0.408867</td>\n",
       "      <td>0.586572</td>\n",
       "      <td>0.313800</td>\n",
       "    </tr>\n",
       "    <tr>\n",
       "      <th>0</th>\n",
       "      <td>NuSVC</td>\n",
       "      <td>0.871282</td>\n",
       "      <td>0.401235</td>\n",
       "      <td>0.440181</td>\n",
       "      <td>0.368620</td>\n",
       "    </tr>\n",
       "    <tr>\n",
       "      <th>0</th>\n",
       "      <td>DecisionTreeClassifier</td>\n",
       "      <td>0.860666</td>\n",
       "      <td>0.415042</td>\n",
       "      <td>0.407847</td>\n",
       "      <td>0.422495</td>\n",
       "    </tr>\n",
       "  </tbody>\n",
       "</table>\n",
       "</div>"
      ],
      "text/plain": [
       "                    model  accuracy  f1_score  precision    recall\n",
       "0    KNeighborsClassifier  0.893841  0.408867   0.586572  0.313800\n",
       "0                   NuSVC  0.871282  0.401235   0.440181  0.368620\n",
       "0  DecisionTreeClassifier  0.860666  0.415042   0.407847  0.422495"
      ]
     },
     "execution_count": 102,
     "metadata": {},
     "output_type": "execute_result"
    }
   ],
   "source": [
    "model6 = DecisionTreeClassifier(class_weight='balanced')\n",
    "model6.fit(X_train,y_train)\n",
    "y_pred6 = model6.predict(X_test)\n",
    "acc3 =accuracy_score(y_test,y_pred6)\n",
    "\n",
    "f_score3 = f1_score(y_test,y_pred6)\n",
    "precision3 = precision_score(y_test,y_pred6)\n",
    "recall3 = recall_score(y_test,y_pred6)\n",
    "dct = {'model':'DecisionTreeClassifier','accuracy':acc3,'f1_score':f_score3,'precision':[precision3],'recall':recall3}\n",
    "df_model3 = pd.DataFrame(data=dct)\n",
    "df_models = df_models.append(df_model3)\n",
    "df_models"
   ]
  },
  {
   "cell_type": "code",
   "execution_count": 103,
   "metadata": {},
   "outputs": [
    {
     "data": {
      "text/html": [
       "<div>\n",
       "<style scoped>\n",
       "    .dataframe tbody tr th:only-of-type {\n",
       "        vertical-align: middle;\n",
       "    }\n",
       "\n",
       "    .dataframe tbody tr th {\n",
       "        vertical-align: top;\n",
       "    }\n",
       "\n",
       "    .dataframe thead th {\n",
       "        text-align: right;\n",
       "    }\n",
       "</style>\n",
       "<table border=\"1\" class=\"dataframe\">\n",
       "  <thead>\n",
       "    <tr style=\"text-align: right;\">\n",
       "      <th></th>\n",
       "      <th>model</th>\n",
       "      <th>accuracy</th>\n",
       "      <th>f1_score</th>\n",
       "      <th>precision</th>\n",
       "      <th>recall</th>\n",
       "    </tr>\n",
       "  </thead>\n",
       "  <tbody>\n",
       "    <tr>\n",
       "      <th>0</th>\n",
       "      <td>KNeighborsClassifier</td>\n",
       "      <td>0.893841</td>\n",
       "      <td>0.408867</td>\n",
       "      <td>0.586572</td>\n",
       "      <td>0.313800</td>\n",
       "    </tr>\n",
       "    <tr>\n",
       "      <th>0</th>\n",
       "      <td>NuSVC</td>\n",
       "      <td>0.871282</td>\n",
       "      <td>0.401235</td>\n",
       "      <td>0.440181</td>\n",
       "      <td>0.368620</td>\n",
       "    </tr>\n",
       "    <tr>\n",
       "      <th>0</th>\n",
       "      <td>DecisionTreeClassifier</td>\n",
       "      <td>0.860666</td>\n",
       "      <td>0.415042</td>\n",
       "      <td>0.407847</td>\n",
       "      <td>0.422495</td>\n",
       "    </tr>\n",
       "    <tr>\n",
       "      <th>0</th>\n",
       "      <td>RandomForestClassifier</td>\n",
       "      <td>0.898927</td>\n",
       "      <td>0.410323</td>\n",
       "      <td>0.646341</td>\n",
       "      <td>0.300567</td>\n",
       "    </tr>\n",
       "  </tbody>\n",
       "</table>\n",
       "</div>"
      ],
      "text/plain": [
       "                    model  accuracy  f1_score  precision    recall\n",
       "0    KNeighborsClassifier  0.893841  0.408867   0.586572  0.313800\n",
       "0                   NuSVC  0.871282  0.401235   0.440181  0.368620\n",
       "0  DecisionTreeClassifier  0.860666  0.415042   0.407847  0.422495\n",
       "0  RandomForestClassifier  0.898927  0.410323   0.646341  0.300567"
      ]
     },
     "execution_count": 103,
     "metadata": {},
     "output_type": "execute_result"
    }
   ],
   "source": [
    "model7 = RandomForestClassifier(class_weight='balanced')\n",
    "model7.fit(X_train,y_train)\n",
    "y_pred7 = model7.predict(X_test)\n",
    "acc4 = accuracy_score(y_test,y_pred7)\n",
    "\n",
    "f_score4 = f1_score(y_test,y_pred7)\n",
    "precision4 = precision_score(y_test,y_pred7)\n",
    "recall4 = recall_score(y_test,y_pred7)\n",
    "dct = {'model':'RandomForestClassifier','accuracy':acc4,'f1_score':f_score4,'precision':[precision4],'recall':recall4}\n",
    "\n",
    "df_model4 = pd.DataFrame(data=dct)\n",
    "df_models = df_models.append(df_model4)\n",
    "df_models"
   ]
  },
  {
   "cell_type": "code",
   "execution_count": 104,
   "metadata": {},
   "outputs": [
    {
     "data": {
      "text/plain": [
       "array([[7811,  174],\n",
       "       [ 740,  318]], dtype=int64)"
      ]
     },
     "execution_count": 104,
     "metadata": {},
     "output_type": "execute_result"
    }
   ],
   "source": [
    "confusion_matrix(y_test,y_pred7)"
   ]
  },
  {
   "cell_type": "code",
   "execution_count": 105,
   "metadata": {},
   "outputs": [
    {
     "data": {
      "text/plain": [
       "array([[7336,  649],\n",
       "       [ 611,  447]], dtype=int64)"
      ]
     },
     "execution_count": 105,
     "metadata": {},
     "output_type": "execute_result"
    }
   ],
   "source": [
    "confusion_matrix(y_test,y_pred6)"
   ]
  },
  {
   "cell_type": "code",
   "execution_count": 130,
   "metadata": {
    "scrolled": true
   },
   "outputs": [
    {
     "data": {
      "text/html": [
       "<div>\n",
       "<style scoped>\n",
       "    .dataframe tbody tr th:only-of-type {\n",
       "        vertical-align: middle;\n",
       "    }\n",
       "\n",
       "    .dataframe tbody tr th {\n",
       "        vertical-align: top;\n",
       "    }\n",
       "\n",
       "    .dataframe thead th {\n",
       "        text-align: right;\n",
       "    }\n",
       "</style>\n",
       "<table border=\"1\" class=\"dataframe\">\n",
       "  <thead>\n",
       "    <tr style=\"text-align: right;\">\n",
       "      <th></th>\n",
       "      <th>model</th>\n",
       "      <th>accuracy</th>\n",
       "      <th>f1_score</th>\n",
       "      <th>precision</th>\n",
       "      <th>recall</th>\n",
       "    </tr>\n",
       "  </thead>\n",
       "  <tbody>\n",
       "    <tr>\n",
       "      <th>0</th>\n",
       "      <td>KNeighborsClassifier</td>\n",
       "      <td>0.893841</td>\n",
       "      <td>0.408867</td>\n",
       "      <td>0.586572</td>\n",
       "      <td>0.313800</td>\n",
       "    </tr>\n",
       "    <tr>\n",
       "      <th>0</th>\n",
       "      <td>NuSVC</td>\n",
       "      <td>0.871282</td>\n",
       "      <td>0.401235</td>\n",
       "      <td>0.440181</td>\n",
       "      <td>0.368620</td>\n",
       "    </tr>\n",
       "    <tr>\n",
       "      <th>0</th>\n",
       "      <td>DecisionTreeClassifier</td>\n",
       "      <td>0.860666</td>\n",
       "      <td>0.415042</td>\n",
       "      <td>0.407847</td>\n",
       "      <td>0.422495</td>\n",
       "    </tr>\n",
       "    <tr>\n",
       "      <th>0</th>\n",
       "      <td>RandomForestClassifier</td>\n",
       "      <td>0.898927</td>\n",
       "      <td>0.410323</td>\n",
       "      <td>0.646341</td>\n",
       "      <td>0.300567</td>\n",
       "    </tr>\n",
       "    <tr>\n",
       "      <th>0</th>\n",
       "      <td>XGBClassifier</td>\n",
       "      <td>0.905009</td>\n",
       "      <td>0.518768</td>\n",
       "      <td>0.636864</td>\n",
       "      <td>0.437618</td>\n",
       "    </tr>\n",
       "    <tr>\n",
       "      <th>0</th>\n",
       "      <td>XGBClassifier</td>\n",
       "      <td>0.905009</td>\n",
       "      <td>0.518768</td>\n",
       "      <td>0.636864</td>\n",
       "      <td>0.437618</td>\n",
       "    </tr>\n",
       "  </tbody>\n",
       "</table>\n",
       "</div>"
      ],
      "text/plain": [
       "                    model  accuracy  f1_score  precision    recall\n",
       "0    KNeighborsClassifier  0.893841  0.408867   0.586572  0.313800\n",
       "0                   NuSVC  0.871282  0.401235   0.440181  0.368620\n",
       "0  DecisionTreeClassifier  0.860666  0.415042   0.407847  0.422495\n",
       "0  RandomForestClassifier  0.898927  0.410323   0.646341  0.300567\n",
       "0           XGBClassifier  0.905009  0.518768   0.636864  0.437618\n",
       "0           XGBClassifier  0.905009  0.518768   0.636864  0.437618"
      ]
     },
     "execution_count": 130,
     "metadata": {},
     "output_type": "execute_result"
    }
   ],
   "source": [
    "model8 = XGBClassifier()\n",
    "model8.fit(X_train, y_train)\n",
    "y_pred8 = model8.predict(X_test)\n",
    "confusion_matrix(y_test,y_pred8)\n",
    "acc5 = accuracy_score(y_test,y_pred8)\n",
    "\n",
    "f_score5 = f1_score(y_test,y_pred8)\n",
    "precision5 = precision_score(y_test,y_pred8)\n",
    "recall5 = recall_score(y_test,y_pred8)\n",
    "dct = {'model':'XGBClassifier','accuracy':acc5,'f1_score':f_score5,'precision':[precision5],'recall':recall5}\n",
    "\n",
    "df_model5 = pd.DataFrame(data=dct)\n",
    "df_models = df_models.append(df_model5)\n",
    "df_models"
   ]
  },
  {
   "cell_type": "markdown",
   "metadata": {},
   "source": [
    "Let's check the roc_auc_score of those models"
   ]
  },
  {
   "cell_type": "code",
   "execution_count": 129,
   "metadata": {},
   "outputs": [
    {
     "data": {
      "image/png": "[encoded data removed]",
      "text/plain": [
       "<Figure size 1080x720 with 1 Axes>"
      ]
     },
     "metadata": {
      "needs_background": "light"
     },
     "output_type": "display_data"
    }
   ],
   "source": [
    "import matplotlib.pyplot as plt\n",
    "model_roc=roc_auc_score(y_test,y_pred8)\n",
    "fpr,tpr,thresholds=roc_curve(y_test, model8.predict_proba(X_test)[:,1])\n",
    "plt.figure(figsize=(15,10))\n",
    "plt.plot(fpr,tpr, label=f'XGBClassifier, area={model_roc.round(2)}')\n",
    "plt.plot([0,1],[0,1])\n",
    "plt.legend()\n",
    "\n",
    "model_roc2=roc_auc_score(y_test,y_pred7)\n",
    "fpr,tpr,thresholds=roc_curve(y_test, model7.predict_proba(X_test)[:,1])\n",
    "plt.plot(fpr,tpr, label=f'RandomForestClassifier, area={model_roc2.round(2)}')\n",
    "plt.legend()\n",
    "\n",
    "model_roc3=roc_auc_score(y_test,y_pred6)\n",
    "fpr,tpr,thresholds=roc_curve(y_test, model6.predict_proba(X_test)[:,1])\n",
    "plt.plot(fpr,tpr, label=f'DecisionTreeClassifier, area={model_roc3.round(2)}')\n",
    "plt.legend()\n",
    "\n",
    "\n",
    "model_roc4=roc_auc_score(y_test,y_pred4)\n",
    "fpr,tpr,thresholds=roc_curve(y_test, nusvc.predict_proba(X_test)[:,1])\n",
    "plt.plot(fpr,tpr, label=f'NuSVC, area={model_roc4.round(2)}')\n",
    "plt.legend()\n",
    "\n",
    "model_roc5=roc_auc_score(y_test,y_pred3)\n",
    "fpr,tpr,thresholds=roc_curve(y_test, logist.predict_proba(X_test)[:,1])\n",
    "plt.plot(fpr,tpr, label=f'LogisticRegression, area={model_roc5.round(2)}')\n",
    "plt.legend()\n",
    "\n",
    "\n",
    "plt.title('ROC Curve Analysis', fontweight='bold', fontsize=15)\n",
    "plt.show()"
   ]
  },
  {
   "cell_type": "code",
   "execution_count": 68,
   "metadata": {},
   "outputs": [
    {
     "data": {
      "text/plain": [
       "0.7022780781072262"
      ]
     },
     "execution_count": 68,
     "metadata": {},
     "output_type": "execute_result"
    }
   ],
   "source": [
    "roc_auc_score(y_test,y_pred8)"
   ]
  },
  {
   "cell_type": "code",
   "execution_count": 98,
   "metadata": {},
   "outputs": [
    {
     "data": {
      "text/plain": [
       "0.4741532976827094"
      ]
     },
     "execution_count": 98,
     "metadata": {},
     "output_type": "execute_result"
    }
   ],
   "source": [
    "f1_score(y_test,l_ypred[0])"
   ]
  },
  {
   "cell_type": "code",
   "execution_count": 116,
   "metadata": {},
   "outputs": [
    {
     "data": {
      "image/png": "[encoded data removed]",
      "text/plain": [
       "<Figure size 1080x576 with 1 Axes>"
      ]
     },
     "metadata": {
      "needs_background": "light"
     },
     "output_type": "display_data"
    }
   ],
   "source": [
    "df_models.plot(x='model',figsize=(15,8),kind='bar',rot=60);"
   ]
  },
  {
   "cell_type": "code",
   "execution_count": null,
   "metadata": {},
   "outputs": [],
   "source": []
  }
 ],
 "metadata": {
  "kernelspec": {
   "display_name": "Python 3",
   "language": "python",
   "name": "python3"
  },
  "language_info": {
   "codemirror_mode": {
    "name": "ipython",
    "version": 3
   },
   "file_extension": ".py",
   "mimetype": "text/x-python",
   "name": "python",
   "nbconvert_exporter": "python",
   "pygments_lexer": "ipython3",
   "version": "3.7.6"
  }
 },
 "nbformat": 4,
 "nbformat_minor": 4
}
